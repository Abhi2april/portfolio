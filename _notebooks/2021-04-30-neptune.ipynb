{
 "cells": [
  {
   "attachments": {},
   "cell_type": "markdown",
   "metadata": {},
   "source": [
    "# Tracking ML Experiments with Neptune.ai\n",
    "> Switching from spreadsheets to Neptune to improve model building\n",
    "\n",
    "- toc: true \n",
    "- badges: true\n",
    "- comments: true\n",
    "- author: Nikita Kozodoi\n",
    "- categories: [python, infrastructure]\n",
    "- image: images/posts/neptune.png\n",
    "- cover: images/covers/neptune.png\n",
    "- permalink: /blog/:year:month:day/tracking-experiments"
   ]
  },
  {
   "attachments": {},
   "cell_type": "markdown",
   "metadata": {},
   "source": [
    "*This post is also published on the [Neptune.ai blog](https://neptune.ai/blog/switching-from-spreadsheets-to-neptune-ai)*. All opinions are my own.*"
   ]
  },
  {
   "cell_type": "markdown",
   "metadata": {},
   "source": [
    "# 1. Introduction\n",
    "\n",
    "Many ML projects, including Kaggle competitions, have a similar workflow. You start with a simple pipeline with a benchmark model. Next, you begin incorporating improvements: adding features, augmenting the data, tuning the model... On each iteration, you evaluate your solution and keep changes that improve the target metric.\n",
    "\n",
    "![](images/fig_experiments.png)\n",
    "<p align=center><em>The figure illustrates the iterative improvement process in ML projects.</em></p>"
   ]
  },
  {
   "cell_type": "markdown",
   "metadata": {},
   "source": [
    "This workflow involves running a lot of experiments. As time goes by, it becomes difficult to keep track of the progress and positive changes. Instead of working on new ideas, you spend time thinking:\n",
    "- “have I already tried this thing?”,\n",
    "- “what was that hyperparameter value that worked so well last week?” \n",
    "\n",
    "You end up running the same stuff multiple times. If you are not tracking your experiments yet, I highly recommend you to start!\n",
    "In my previous Kaggle projects, I used to rely on spreadsheets for tracking. It worked very well in the beginning, but soon I realized that setting up and managing spreadsheets with experiment meta-data requires loads of additional work. I got tired of manually filling in model parameters and performance values after each experiment and really wanted to switch to an automated solution. \n",
    "\n",
    "This is when I discovered Neptune.ai. This tool allowed me to save a lot of time and focus on modeling decisions, which helped me to earn three medals in Kaggle competitions.\n",
    "\n",
    "In this post, I will share my story of switching from spreadsheets to Neptune for experiment tracking. I will describe a few disadvantages of spreadsheets, explain how Neptune helps to address them, and give a couple of tips on using Neptune for Kaggle."
   ]
  },
  {
   "cell_type": "markdown",
   "metadata": {},
   "source": [
    "# 2. What is wrong with spreadsheets for experiment tracking?\n",
    "\n",
    "Spreadsheets are great for many purposes. To track experiments, you can simply set up a spreadsheet with different columns containing the relevant parameters and performance of your pipeline. It is also easy to share this spreadsheet with teammates. \n",
    "\n",
    "Sounds great, right?\n",
    "\n",
    "Unfortunately, there are a few problems with this.\n",
    "\n",
    "![](images/fig_track_spreadsheets.png)\n",
    "<p align=center><em>The figure illustrates ML experiment tracking with spreadsheets.</em></p>"
   ]
  },
  {
   "cell_type": "markdown",
   "metadata": {},
   "source": [
    "## Manual work\n",
    "\n",
    "After doing it for a while, you will notice that maintaining a spreadsheet starts eating too much time. You need to manually fill in a row with meta-data for each new experiment and add a column for each new parameter. This will get out of control once your pipeline becomes more sophisticated. \n",
    "\n",
    "It is also very easy to make a typo, which can lead to bad decisions. \n",
    "\n",
    "When working on one deep learning competition, I incorrectly entered a learning rate in one of my experiments. Looking at the spreadsheet, I concluded that a high learning rate decreases the accuracy and went on working on other things. It was only a few days later when I realized that there was a typo and poor performance actually comes from a low learning rate. This cost me two days of work invested in the wrong direction based on a false conclusion.\n"
   ]
  },
  {
   "cell_type": "markdown",
   "metadata": {},
   "source": [
    "## No live tracking\n",
    "\n",
    "With spreadsheets, you need to wait until an experiment is completed in order to record the performance. \n",
    "\n",
    "Apart from being frustrated to do it manually every time, this also does not allow you to compare intermediate results across the experiments, which is helpful to see if a new run looks promising. \n",
    "\n",
    "Of course, you can log in model performance after every epoch, but doing it manually for each experiment requires even more time and effort. I never had enough diligence to do it regularly and ended up spending some computing resources not optimally."
   ]
  },
  {
   "cell_type": "markdown",
   "metadata": {},
   "source": [
    "## Attachment limitations \n",
    "\n",
    "Another issue with spreadsheets is that they only support textual meta-data that can be entered in a cell. \n",
    "\n",
    "What if you want to attach other meta-data like:\n",
    "- model weights, \n",
    "- source code, \n",
    "- plots with model predictions,\n",
    "- input data version?\n",
    "\n",
    "You need to manually store this stuff in your project folders outside of the spreadsheet. \n",
    "\n",
    "In practice, it gets complicated to organize and sync experiment outputs between local machines, Google Colab, Kaggle Notebooks, and other environments your teammates might use. Having such meta-data attached to a tracking spreadsheet seems useful, but it is very difficult to do it."
   ]
  },
  {
   "cell_type": "markdown",
   "metadata": {},
   "source": [
    "# 3. Switching from spreadsheets to Neptune\n",
    "\n",
    "A few months ago, our team was working on a Cassava Leaf Disease competition and used Google spreadsheets for experiment tracking. One month into the challenge, our spreadsheet was already cluttered:\n",
    "- Some runs were missing performance because one of us forgot to log it in and did not have the results anymore. \n",
    "- PDFs with loss curves were scattered over Google Drive and Kaggle Notebooks. \n",
    "- Some parameters might have been entered incorrectly, but it was too time-consuming to restore and double-check older script versions. \n",
    "\n",
    "It was difficult to make good data-driven decisions based on our spreadsheet.\n",
    "\n",
    "Even though there were only four weeks left, we decided to switch to Neptune. I was surprised to see how little effort it actually took us to set it up. In brief, there are three main steps:\n",
    "\n",
    "- sign up for a Neptune account and create a project,\n",
    "- install the neptune package in your environment,\n",
    "- include several lines in the pipeline to enable logging of relevant meta-data.\n",
    "\n",
    "You can read more about the exact steps to start using Neptune here. Of course, going through the documentation and getting familiar with the platform may take you a few hours. But remember that this is only a one-time investment. After learning the tool once, I was able to automate much of the tracking and rely on Neptune in the next Kaggle competitions with very little extra effort\n"
   ]
  },
  {
   "cell_type": "markdown",
   "metadata": {},
   "source": [
    "# 4. What is good about Neptune?\n",
    "\n",
    "![](images/fig_track_neptune.png)\n",
    "\n",
    "<p align=center><em>The figure illustrates ML experiment tracking with Neptune.</em></p>"
   ]
  },
  {
   "cell_type": "markdown",
   "metadata": {},
   "source": [
    "## Less manual work\n",
    "\n",
    "One of the key advantages of Neptune over spreadsheets is that it saves you a lot of manual work. With Neptune, you use the API within the pipeline to automatically upload and store meta-data while the code is running. "
   ]
  },
  {
   "cell_type": "code",
   "execution_count": null,
   "metadata": {},
   "outputs": [],
   "source": [
    "import neptune.new as neptune\n",
    "\n",
    "run = neptune.init(project = '#', api_token = '#') # your credentials\n",
    "\n",
    "# Track relevant parameters\n",
    "config = {\n",
    "    'batch_size': 64,\n",
    "    'learning_rate': 0.001,\n",
    "    'optimizer': 'Adam'\n",
    "    }\n",
    "run['parameters'] =  config\n",
    "\n",
    "# Track the training process by logging your training metrics\n",
    "for epoch in range(100):\n",
    "    run['train/accuracy'].log(epoch * 0.6)\n",
    "\n",
    "# Log the final results\n",
    "run['f1_score'] = 0.66"
   ]
  },
  {
   "cell_type": "markdown",
   "metadata": {},
   "source": [
    "You don’t have to manually put it in the results table, and you also save yourself from making a typo. Since the meta-data is sent to Neptune directly from the code, you will get all numbers right no matter how many digits they have. \n",
    "\n",
    "It may sound like a small thing, but the time saved from logging in each experiment accumulates very quickly and leads to tangible gains by the end of the project. This gives you an opportunity to not think too much about the actual tracking process and better focus on the modeling decisions. In a way, this is like hiring an assistant to take care of some boring (but very useful) logging tasks so that you can focus more on the creative work."
   ]
  },
  {
   "cell_type": "markdown",
   "metadata": {},
   "source": [
    "## Live tracking\n",
    "\n",
    "What I like a lot about Neptune is that it allows you to do live tracking. If you work with models like neural networks or gradient boosting that require a lot of iterations before convergence, you know it is quite useful to look at the loss dynamics early to detect issues and compare models. \n",
    "\n",
    "Tracking intermediate results in a spreadsheet is too frustrating. Neptune API can log in performance after every epoch or even every batch so that you can start comparing the learning curves while your experiment is still running.\n",
    "\n",
    "![](images/fig_curves.png)\n"
   ]
  },
  {
   "cell_type": "markdown",
   "metadata": {},
   "source": [
    "This proves to be very helpful. As you might expect, many ML experiments have negative results (sorry, but this great idea you were working on for a few days actually decreases the accuracy). \n",
    "\n",
    "This is completely fine because this is how ML works. \n",
    "\n",
    "What is not fine is that you may need to wait a long time until getting that negative signal from your pipeline. Using Neptune dashboard to compare the intermediate plots with the first few performance values may be enough to realize that you need to stop the experiment and change something."
   ]
  },
  {
   "cell_type": "markdown",
   "metadata": {},
   "source": [
    "## Attaching outputs\n",
    "\n",
    "Another advantage of Neptune is the ability to attach pretty much anything to every experiment run. This really helps to keep important outputs such as model weights and predictions in one place and easily access them from your experiments table. \n",
    "\n",
    "This is particularly helpful if you and your colleagues work in different environments and have to manually upload the outputs to sync the files. \n",
    "\n",
    "I also like the ability to attach the source code to each run to make sure you have the notebook version that produced the corresponding result. This can be very useful in case you want to revert some changes that did not improve the performance and would like to go back to the previous best version. \n"
   ]
  },
  {
   "cell_type": "markdown",
   "metadata": {},
   "source": [
    "# 4. Tips to improve Kaggle performance with Neptune\n",
    "\n",
    "When working on Kaggle competitions, there are a few tips I can give you to further improve your tracking experience.\n"
   ]
  },
  {
   "cell_type": "markdown",
   "metadata": {},
   "source": [
    "## Using Neptune in Kaggle Notebooks or Google Colab\n",
    "\n",
    "First, Neptune is very helpful for working in Kaggle Notebooks or Google Colab that have session time limits when using GPU/TPU. I can not count how many times I lost all experiment outputs due to a notebook crash when training was taking just a few minutes more than the allowed 9-hour limit! \n",
    "\n",
    "To avoid that, I would highly recommend setting up Neptune such that model weights and loss metrics are stored after each epoch. That way, you will always have a checkpoint uploaded to Neptune servers to resume your training even if your Kaggle notebook times out. You will also have an opportunity to compare your intermediate results before the session crash with other experiments to judge their potential."
   ]
  },
  {
   "cell_type": "code",
   "execution_count": null,
   "metadata": {},
   "outputs": [],
   "source": []
  },
  {
   "cell_type": "markdown",
   "metadata": {},
   "source": [
    "## Updating runs with the Kaggle leaderboard score\n",
    "\n",
    "Second, an important metric to track in Kaggle projects is the leaderboard score. With Neptune, you can track your cross-validation score automatically but getting the leaderboard score inside the code is not possible since it requires you to submit predictions via the Kaggle website.  \n",
    "\n",
    "The most convenient way to add the leaderboard score of your experiment to the Neptune tracking table is to use the \"resume run\" functionality. It allows you to update any finished experiment with a new metric with a couple of lines of code. This feature is also helpful to resume tracking crashed sessions, which we discussed in the previous paragraph."
   ]
  },
  {
   "cell_type": "code",
   "execution_count": null,
   "metadata": {},
   "outputs": [],
   "source": [
    "import neptune.new as neptune\n",
    "\n",
    "run = neptune.init(project = 'Your-Kaggle-Project', run = 'SUN-123')\n",
    "\n",
    "# Add a new metric\n",
    "run[“LB_score”] = 0.5\n",
    "\n",
    "# Download snapshot of model weights\n",
    "model = run['train/model_weights'].download()\n",
    "\n",
    "# Continue working"
   ]
  },
  {
   "cell_type": "markdown",
   "metadata": {},
   "source": [
    "## Downloading experiment meta-data\n",
    "\n",
    "Finally, I know that many Kagglers like to perform complex analyses of their submissions, like estimating the correlation between CV and LB scores or plotting the best score dynamics with respect to time. \n",
    "\n",
    "While it is not yet feasible to do such things on the website, Neptune allows you to download meta-data from all experiments directly into your notebook using a single API call. It makes it easy to take a deeper dive into the results or export the meta-data table and share it externally with people who use a different tracking tool or don’t rely on any experiment tracking.\n"
   ]
  },
  {
   "cell_type": "code",
   "execution_count": null,
   "metadata": {},
   "outputs": [],
   "source": [
    "import neptune.new as neptune\n",
    "\n",
    "my_project = neptune.get_project('Your-Workspace/Your-Kaggle-Project')\n",
    "\n",
    "# Get dashboard with runs contributed by 'sophia'\n",
    "sophia_df = my_project.fetch_runs_table(owner = 'sophia').to_pandas()\n",
    "sophia_df.head()"
   ]
  },
  {
   "cell_type": "markdown",
   "metadata": {},
   "source": [
    "# 5. Final thoughts\n",
    "\n",
    "In this post, I shared my story of switching from spreadsheets to Neptune for tracking ML experiments and emphasized some advantages of Neptune. I would like to stress once again that investing time in infrastructure tools - be it experiment tracking, code versioning, or anything else - is always a good decision and will likely pay off with the increased productivity.\n",
    "Tracking experiment meta-data with spreadsheets is much better than not doing any tracking. It will help you to better see your progress, understand what modifications improve your solution, and help make modeling decisions. Doing it with spreadsheets will also cost you some additional time and effort. Tools like Neptune take the experiment tracking to a next level, allowing you to automate the meta-data logging and focus on the modeling decisions.\n",
    "\n",
    "I hope you find my story useful. Good luck with your future ML projects!\n"
   ]
  }
 ],
 "metadata": {
  "kernelspec": {
   "display_name": "Python 3",
   "language": "python",
   "name": "python3"
  },
  "language_info": {
   "codemirror_mode": {
    "name": "ipython",
    "version": 3
   },
   "file_extension": ".py",
   "mimetype": "text/x-python",
   "name": "python",
   "nbconvert_exporter": "python",
   "pygments_lexer": "ipython3",
   "version": "3.7.6"
  }
 },
 "nbformat": 4,
 "nbformat_minor": 4
}
