{
 "cells": [
  {
   "cell_type": "code",
   "execution_count": 1,
   "id": "702cf6bf",
   "metadata": {
    "execution": {
     "iopub.execute_input": "2024-10-31T20:31:51.702481Z",
     "iopub.status.busy": "2024-10-31T20:31:51.701947Z",
     "iopub.status.idle": "2024-10-31T20:31:54.729006Z",
     "shell.execute_reply": "2024-10-31T20:31:54.727637Z"
    },
    "papermill": {
     "duration": 3.041341,
     "end_time": "2024-10-31T20:31:54.732015",
     "exception": false,
     "start_time": "2024-10-31T20:31:51.690674",
     "status": "completed"
    },
    "tags": []
   },
   "outputs": [],
   "source": [
    "import numpy as np\n",
    "import pandas as pd\n",
    "import matplotlib.pyplot as plt\n",
    "import seaborn as sns"
   ]
  },
  {
   "cell_type": "code",
   "execution_count": 2,
   "id": "0d1c7824",
   "metadata": {
    "execution": {
     "iopub.execute_input": "2024-10-31T20:31:54.751056Z",
     "iopub.status.busy": "2024-10-31T20:31:54.750407Z",
     "iopub.status.idle": "2024-10-31T20:32:03.441069Z",
     "shell.execute_reply": "2024-10-31T20:32:03.439676Z"
    },
    "papermill": {
     "duration": 8.703387,
     "end_time": "2024-10-31T20:32:03.444011",
     "exception": false,
     "start_time": "2024-10-31T20:31:54.740624",
     "status": "completed"
    },
    "tags": []
   },
   "outputs": [
    {
     "data": {
      "text/html": [
       "<div>\n",
       "<style scoped>\n",
       "    .dataframe tbody tr th:only-of-type {\n",
       "        vertical-align: middle;\n",
       "    }\n",
       "\n",
       "    .dataframe tbody tr th {\n",
       "        vertical-align: top;\n",
       "    }\n",
       "\n",
       "    .dataframe thead th {\n",
       "        text-align: right;\n",
       "    }\n",
       "</style>\n",
       "<table border=\"1\" class=\"dataframe\">\n",
       "  <thead>\n",
       "    <tr style=\"text-align: right;\">\n",
       "      <th></th>\n",
       "      <th>timestamp</th>\n",
       "      <th>open</th>\n",
       "      <th>high</th>\n",
       "      <th>low</th>\n",
       "      <th>close</th>\n",
       "      <th>volume</th>\n",
       "      <th>quote_asset_volume</th>\n",
       "      <th>number_of_trades</th>\n",
       "      <th>taker_buy_base_volume</th>\n",
       "      <th>taker_buy_quote_volume</th>\n",
       "      <th>target</th>\n",
       "    </tr>\n",
       "  </thead>\n",
       "  <tbody>\n",
       "    <tr>\n",
       "      <th>0</th>\n",
       "      <td>1525471260</td>\n",
       "      <td>0.90120</td>\n",
       "      <td>0.90130</td>\n",
       "      <td>0.90120</td>\n",
       "      <td>0.90130</td>\n",
       "      <td>134.98</td>\n",
       "      <td>121.646459</td>\n",
       "      <td>4.0</td>\n",
       "      <td>125.08</td>\n",
       "      <td>112.723589</td>\n",
       "      <td>1.0</td>\n",
       "    </tr>\n",
       "    <tr>\n",
       "      <th>1</th>\n",
       "      <td>1525471320</td>\n",
       "      <td>0.90185</td>\n",
       "      <td>0.90195</td>\n",
       "      <td>0.90185</td>\n",
       "      <td>0.90195</td>\n",
       "      <td>1070.54</td>\n",
       "      <td>965.505313</td>\n",
       "      <td>12.0</td>\n",
       "      <td>879.94</td>\n",
       "      <td>793.612703</td>\n",
       "      <td>0.0</td>\n",
       "    </tr>\n",
       "    <tr>\n",
       "      <th>2</th>\n",
       "      <td>1525471380</td>\n",
       "      <td>0.90140</td>\n",
       "      <td>0.90140</td>\n",
       "      <td>0.90139</td>\n",
       "      <td>0.90139</td>\n",
       "      <td>2293.06</td>\n",
       "      <td>2066.963991</td>\n",
       "      <td>5.0</td>\n",
       "      <td>0.00</td>\n",
       "      <td>0.000000</td>\n",
       "      <td>0.0</td>\n",
       "    </tr>\n",
       "    <tr>\n",
       "      <th>3</th>\n",
       "      <td>1525471440</td>\n",
       "      <td>0.90139</td>\n",
       "      <td>0.90140</td>\n",
       "      <td>0.90138</td>\n",
       "      <td>0.90139</td>\n",
       "      <td>6850.59</td>\n",
       "      <td>6175.000909</td>\n",
       "      <td>19.0</td>\n",
       "      <td>1786.30</td>\n",
       "      <td>1610.149485</td>\n",
       "      <td>0.0</td>\n",
       "    </tr>\n",
       "    <tr>\n",
       "      <th>4</th>\n",
       "      <td>1525471500</td>\n",
       "      <td>0.90139</td>\n",
       "      <td>0.90139</td>\n",
       "      <td>0.90130</td>\n",
       "      <td>0.90130</td>\n",
       "      <td>832.30</td>\n",
       "      <td>750.222624</td>\n",
       "      <td>3.0</td>\n",
       "      <td>784.82</td>\n",
       "      <td>707.428900</td>\n",
       "      <td>0.0</td>\n",
       "    </tr>\n",
       "    <tr>\n",
       "      <th>...</th>\n",
       "      <td>...</td>\n",
       "      <td>...</td>\n",
       "      <td>...</td>\n",
       "      <td>...</td>\n",
       "      <td>...</td>\n",
       "      <td>...</td>\n",
       "      <td>...</td>\n",
       "      <td>...</td>\n",
       "      <td>...</td>\n",
       "      <td>...</td>\n",
       "      <td>...</td>\n",
       "    </tr>\n",
       "    <tr>\n",
       "      <th>2122433</th>\n",
       "      <td>1652817240</td>\n",
       "      <td>0.43060</td>\n",
       "      <td>0.43060</td>\n",
       "      <td>0.42990</td>\n",
       "      <td>0.43040</td>\n",
       "      <td>136274.00</td>\n",
       "      <td>58630.162800</td>\n",
       "      <td>144.0</td>\n",
       "      <td>54216.00</td>\n",
       "      <td>23325.927700</td>\n",
       "      <td>1.0</td>\n",
       "    </tr>\n",
       "    <tr>\n",
       "      <th>2122434</th>\n",
       "      <td>1652817300</td>\n",
       "      <td>0.43030</td>\n",
       "      <td>0.43070</td>\n",
       "      <td>0.43030</td>\n",
       "      <td>0.43050</td>\n",
       "      <td>104478.00</td>\n",
       "      <td>44967.837600</td>\n",
       "      <td>99.0</td>\n",
       "      <td>52232.00</td>\n",
       "      <td>22484.030400</td>\n",
       "      <td>1.0</td>\n",
       "    </tr>\n",
       "    <tr>\n",
       "      <th>2122435</th>\n",
       "      <td>1652817360</td>\n",
       "      <td>0.43050</td>\n",
       "      <td>0.43120</td>\n",
       "      <td>0.43050</td>\n",
       "      <td>0.43090</td>\n",
       "      <td>212396.00</td>\n",
       "      <td>91526.987200</td>\n",
       "      <td>177.0</td>\n",
       "      <td>108324.00</td>\n",
       "      <td>46673.061600</td>\n",
       "      <td>0.0</td>\n",
       "    </tr>\n",
       "    <tr>\n",
       "      <th>2122436</th>\n",
       "      <td>1652817420</td>\n",
       "      <td>0.43110</td>\n",
       "      <td>0.43110</td>\n",
       "      <td>0.43040</td>\n",
       "      <td>0.43060</td>\n",
       "      <td>131047.00</td>\n",
       "      <td>56443.003800</td>\n",
       "      <td>107.0</td>\n",
       "      <td>32713.00</td>\n",
       "      <td>14097.148900</td>\n",
       "      <td>0.0</td>\n",
       "    </tr>\n",
       "    <tr>\n",
       "      <th>2122437</th>\n",
       "      <td>1652817480</td>\n",
       "      <td>0.43060</td>\n",
       "      <td>0.43080</td>\n",
       "      <td>0.43010</td>\n",
       "      <td>0.43010</td>\n",
       "      <td>101150.00</td>\n",
       "      <td>43542.262900</td>\n",
       "      <td>105.0</td>\n",
       "      <td>46109.00</td>\n",
       "      <td>19851.723700</td>\n",
       "      <td>1.0</td>\n",
       "    </tr>\n",
       "  </tbody>\n",
       "</table>\n",
       "<p>2122438 rows × 11 columns</p>\n",
       "</div>"
      ],
      "text/plain": [
       "          timestamp     open     high      low    close     volume  \\\n",
       "0        1525471260  0.90120  0.90130  0.90120  0.90130     134.98   \n",
       "1        1525471320  0.90185  0.90195  0.90185  0.90195    1070.54   \n",
       "2        1525471380  0.90140  0.90140  0.90139  0.90139    2293.06   \n",
       "3        1525471440  0.90139  0.90140  0.90138  0.90139    6850.59   \n",
       "4        1525471500  0.90139  0.90139  0.90130  0.90130     832.30   \n",
       "...             ...      ...      ...      ...      ...        ...   \n",
       "2122433  1652817240  0.43060  0.43060  0.42990  0.43040  136274.00   \n",
       "2122434  1652817300  0.43030  0.43070  0.43030  0.43050  104478.00   \n",
       "2122435  1652817360  0.43050  0.43120  0.43050  0.43090  212396.00   \n",
       "2122436  1652817420  0.43110  0.43110  0.43040  0.43060  131047.00   \n",
       "2122437  1652817480  0.43060  0.43080  0.43010  0.43010  101150.00   \n",
       "\n",
       "         quote_asset_volume  number_of_trades  taker_buy_base_volume  \\\n",
       "0                121.646459               4.0                 125.08   \n",
       "1                965.505313              12.0                 879.94   \n",
       "2               2066.963991               5.0                   0.00   \n",
       "3               6175.000909              19.0                1786.30   \n",
       "4                750.222624               3.0                 784.82   \n",
       "...                     ...               ...                    ...   \n",
       "2122433        58630.162800             144.0               54216.00   \n",
       "2122434        44967.837600              99.0               52232.00   \n",
       "2122435        91526.987200             177.0              108324.00   \n",
       "2122436        56443.003800             107.0               32713.00   \n",
       "2122437        43542.262900             105.0               46109.00   \n",
       "\n",
       "         taker_buy_quote_volume  target  \n",
       "0                    112.723589     1.0  \n",
       "1                    793.612703     0.0  \n",
       "2                      0.000000     0.0  \n",
       "3                   1610.149485     0.0  \n",
       "4                    707.428900     0.0  \n",
       "...                         ...     ...  \n",
       "2122433            23325.927700     1.0  \n",
       "2122434            22484.030400     1.0  \n",
       "2122435            46673.061600     0.0  \n",
       "2122436            14097.148900     0.0  \n",
       "2122437            19851.723700     1.0  \n",
       "\n",
       "[2122438 rows x 11 columns]"
      ]
     },
     "execution_count": 2,
     "metadata": {},
     "output_type": "execute_result"
    }
   ],
   "source": [
    "train_df = pd.read_csv('/kaggle/input/directional-forecasting-in-cryptocurrencies/train.csv')\n",
    "test_df = pd.read_csv('/kaggle/input/directional-forecasting-in-cryptocurrencies/test.csv')\n",
    "train_df"
   ]
  },
  {
   "cell_type": "code",
   "execution_count": 3,
   "id": "a403554a",
   "metadata": {
    "execution": {
     "iopub.execute_input": "2024-10-31T20:32:03.462146Z",
     "iopub.status.busy": "2024-10-31T20:32:03.461677Z",
     "iopub.status.idle": "2024-10-31T20:32:05.162956Z",
     "shell.execute_reply": "2024-10-31T20:32:05.161864Z"
    },
    "papermill": {
     "duration": 1.715081,
     "end_time": "2024-10-31T20:32:05.167262",
     "exception": false,
     "start_time": "2024-10-31T20:32:03.452181",
     "status": "completed"
    },
    "tags": []
   },
   "outputs": [
    {
     "data": {
      "image/png": "[encoded data removed]",
      "text/plain": [
       "<Figure size 2000x1000 with 2 Axes>"
      ]
     },
     "metadata": {},
     "output_type": "display_data"
    }
   ],
   "source": [
    "import seaborn as sns\n",
    "plt.figure(figsize=(20,10))\n",
    "sns.heatmap(train_df.corr(), annot=True, cmap='coolwarm', linewidths=0.5)\n",
    "plt.title('Correlation Heatmap of Features')\n",
    "plt.show()"
   ]
  },
  {
   "cell_type": "code",
   "execution_count": 4,
   "id": "e0758621",
   "metadata": {
    "execution": {
     "iopub.execute_input": "2024-10-31T20:32:05.189548Z",
     "iopub.status.busy": "2024-10-31T20:32:05.189085Z",
     "iopub.status.idle": "2024-10-31T20:32:06.262793Z",
     "shell.execute_reply": "2024-10-31T20:32:06.261578Z"
    },
    "papermill": {
     "duration": 1.088047,
     "end_time": "2024-10-31T20:32:06.265478",
     "exception": false,
     "start_time": "2024-10-31T20:32:05.177431",
     "status": "completed"
    },
    "tags": []
   },
   "outputs": [
    {
     "data": {
      "image/png": "[encoded data removed]",
      "text/plain": [
       "<Figure size 700x50 with 1 Axes>"
      ]
     },
     "metadata": {},
     "output_type": "display_data"
    }
   ],
   "source": [
    "import seaborn as sns\n",
    "import matplotlib.pyplot as plt\n",
    "\n",
    "correlation_matrix = train_df.corr()\n",
    "\n",
    "signal_corr = correlation_matrix[['target']].sort_values(by='target', ascending=False)\n",
    "\n",
    "plt.figure(figsize=(7, 0.5))\n",
    "sns.heatmap(signal_corr.T, annot=True, cmap='coolwarm', cbar=False)\n",
    "plt.title(\"Correlation of Features with 'target'\")\n",
    "plt.show()\n"
   ]
  },
  {
   "cell_type": "code",
   "execution_count": 5,
   "id": "67916f46",
   "metadata": {
    "execution": {
     "iopub.execute_input": "2024-10-31T20:32:06.288943Z",
     "iopub.status.busy": "2024-10-31T20:32:06.288460Z",
     "iopub.status.idle": "2024-10-31T20:32:06.798921Z",
     "shell.execute_reply": "2024-10-31T20:32:06.797751Z"
    },
    "papermill": {
     "duration": 0.525722,
     "end_time": "2024-10-31T20:32:06.802021",
     "exception": false,
     "start_time": "2024-10-31T20:32:06.276299",
     "status": "completed"
    },
    "tags": []
   },
   "outputs": [],
   "source": [
    "from datetime import datetime, timezone\n",
    "\n",
    "train_df['timestamp'] = pd.to_datetime(train_df['timestamp'], unit='s')\n",
    "train_df['minute'] = train_df['timestamp'].dt.minute\n",
    "train_df.drop('timestamp', axis=1, inplace=True)\n",
    "\n",
    "test_df['timestamp'] = pd.to_datetime(test_df['timestamp'], unit='s')\n",
    "test_df['minute'] = test_df['timestamp'].dt.minute\n",
    "test_df.drop('timestamp', axis=1, inplace=True)"
   ]
  },
  {
   "cell_type": "code",
   "execution_count": 6,
   "id": "db578539",
   "metadata": {
    "execution": {
     "iopub.execute_input": "2024-10-31T20:32:06.826757Z",
     "iopub.status.busy": "2024-10-31T20:32:06.826268Z",
     "iopub.status.idle": "2024-10-31T20:32:07.480443Z",
     "shell.execute_reply": "2024-10-31T20:32:07.479229Z"
    },
    "papermill": {
     "duration": 0.670707,
     "end_time": "2024-10-31T20:32:07.483545",
     "exception": false,
     "start_time": "2024-10-31T20:32:06.812838",
     "status": "completed"
    },
    "tags": []
   },
   "outputs": [
    {
     "name": "stdout",
     "output_type": "stream",
     "text": [
      "Outliers:\n",
      "             open     high      low    close      volume  quote_asset_volume  \\\n",
      "107836   0.50566  0.50631  0.48507  0.50008   1822170.0        9.088897e+05   \n",
      "108201   0.47580  0.47615  0.47500  0.47500   1145163.6        5.439815e+05   \n",
      "197296   0.31937  0.32362  0.31937  0.32278   1811583.1        5.802121e+05   \n",
      "199657   0.36803  0.37200  0.36778  0.37152   1346806.7        4.980468e+05   \n",
      "200189   0.48499  0.49021  0.48356  0.49000   2875628.5        1.396135e+06   \n",
      "...          ...      ...      ...      ...         ...                 ...   \n",
      "2120984  0.42000  0.42800  0.41990  0.42790   2374477.0        1.006244e+06   \n",
      "2120985  0.42790  0.44260  0.42790  0.43930  12363632.0        5.401453e+06   \n",
      "2120986  0.43940  0.43940  0.43300  0.43450   3054547.0        1.332590e+06   \n",
      "2120987  0.43450  0.43600  0.42480  0.42650   6367198.0        2.730539e+06   \n",
      "2120988  0.42650  0.42750  0.42270  0.42270   2871307.0        1.220657e+06   \n",
      "\n",
      "         number_of_trades  taker_buy_base_volume  taker_buy_quote_volume  \\\n",
      "107836              865.0              1151145.0            5.747437e+05   \n",
      "108201               42.0              1107813.4            5.262225e+05   \n",
      "197296              261.0              1675449.4            5.364960e+05   \n",
      "199657              459.0              1186219.9            4.387031e+05   \n",
      "200189              728.0              2623470.3            1.273743e+06   \n",
      "...                   ...                    ...                     ...   \n",
      "2120984            1285.0              1749782.0            7.408540e+05   \n",
      "2120985            7547.0              6577021.0            2.870867e+06   \n",
      "2120986            2296.0              1430104.0            6.235863e+05   \n",
      "2120987            3992.0              2906838.0            1.246762e+06   \n",
      "2120988            1939.0              1315831.0            5.595667e+05   \n",
      "\n",
      "         target  minute  \n",
      "107836      0.0      17  \n",
      "108201      1.0      22  \n",
      "197296      0.0      17  \n",
      "199657      0.0      38  \n",
      "200189      0.0      30  \n",
      "...         ...     ...  \n",
      "2120984     1.0      45  \n",
      "2120985     0.0      46  \n",
      "2120986     0.0      47  \n",
      "2120987     0.0      48  \n",
      "2120988     1.0      49  \n",
      "\n",
      "[74452 rows x 11 columns]\n"
     ]
    }
   ],
   "source": [
    "#USING Z-SCORE METHOD TO GET RID OF OUTLIERS\n",
    "\n",
    "z_threshold = 3\n",
    "\n",
    "z_scores = np.abs((train_df - train_df.mean()) / train_df.std())\n",
    "\n",
    "outliers = (z_scores > z_threshold)\n",
    "\n",
    "print(\"Outliers:\\n\", train_df[outliers.any(axis=1)])\n",
    "\n",
    "train_df = train_df[~outliers.any(axis=1)]"
   ]
  },
  {
   "cell_type": "code",
   "execution_count": 7,
   "id": "6e53f833",
   "metadata": {
    "execution": {
     "iopub.execute_input": "2024-10-31T20:32:07.507920Z",
     "iopub.status.busy": "2024-10-31T20:32:07.507268Z",
     "iopub.status.idle": "2024-10-31T20:32:08.196401Z",
     "shell.execute_reply": "2024-10-31T20:32:08.195211Z"
    },
    "papermill": {
     "duration": 0.704715,
     "end_time": "2024-10-31T20:32:08.199334",
     "exception": false,
     "start_time": "2024-10-31T20:32:07.494619",
     "status": "completed"
    },
    "tags": []
   },
   "outputs": [
    {
     "name": "stderr",
     "output_type": "stream",
     "text": [
      "/tmp/ipykernel_18/3596558217.py:1: SettingWithCopyWarning: \n",
      "A value is trying to be set on a copy of a slice from a DataFrame.\n",
      "Try using .loc[row_indexer,col_indexer] = value instead\n",
      "\n",
      "See the caveats in the documentation: https://pandas.pydata.org/pandas-docs/stable/user_guide/indexing.html#returning-a-view-versus-a-copy\n",
      "  train_df['close_shift_1'] = train_df.shift(-1)['close']\n",
      "/tmp/ipykernel_18/3596558217.py:2: SettingWithCopyWarning: \n",
      "A value is trying to be set on a copy of a slice from a DataFrame.\n",
      "Try using .loc[row_indexer,col_indexer] = value instead\n",
      "\n",
      "See the caveats in the documentation: https://pandas.pydata.org/pandas-docs/stable/user_guide/indexing.html#returning-a-view-versus-a-copy\n",
      "  train_df['close_shift_2'] = train_df.shift(-2)['close']\n",
      "/tmp/ipykernel_18/3596558217.py:3: SettingWithCopyWarning: \n",
      "A value is trying to be set on a copy of a slice from a DataFrame.\n",
      "Try using .loc[row_indexer,col_indexer] = value instead\n",
      "\n",
      "See the caveats in the documentation: https://pandas.pydata.org/pandas-docs/stable/user_guide/indexing.html#returning-a-view-versus-a-copy\n",
      "  train_df['close_shift_3'] = train_df.shift(-3)['close']\n",
      "/tmp/ipykernel_18/3596558217.py:4: SettingWithCopyWarning: \n",
      "A value is trying to be set on a copy of a slice from a DataFrame.\n",
      "Try using .loc[row_indexer,col_indexer] = value instead\n",
      "\n",
      "See the caveats in the documentation: https://pandas.pydata.org/pandas-docs/stable/user_guide/indexing.html#returning-a-view-versus-a-copy\n",
      "  train_df['close_shift_4'] = train_df.shift(-4)['close']\n",
      "/tmp/ipykernel_18/3596558217.py:5: SettingWithCopyWarning: \n",
      "A value is trying to be set on a copy of a slice from a DataFrame.\n",
      "Try using .loc[row_indexer,col_indexer] = value instead\n",
      "\n",
      "See the caveats in the documentation: https://pandas.pydata.org/pandas-docs/stable/user_guide/indexing.html#returning-a-view-versus-a-copy\n",
      "  train_df['close_shift_5'] = train_df.shift(-5)['close']\n"
     ]
    }
   ],
   "source": [
    "train_df['close_shift_1'] = train_df.shift(-1)['close']\n",
    "train_df['close_shift_2'] = train_df.shift(-2)['close']\n",
    "train_df['close_shift_3'] = train_df.shift(-3)['close']\n",
    "train_df['close_shift_4'] = train_df.shift(-4)['close']\n",
    "train_df['close_shift_5'] = train_df.shift(-5)['close']\n",
    "\n",
    "\n",
    "test_df['close_shift_1'] = test_df.shift(-1)['close']\n",
    "test_df['close_shift_2'] = test_df.shift(-2)['close']\n",
    "test_df['close_shift_3'] = test_df.shift(-3)['close']\n",
    "test_df['close_shift_4'] = test_df.shift(-4)['close']\n",
    "test_df['close_shift_5'] = test_df.shift(-5)['close']\n"
   ]
  },
  {
   "cell_type": "code",
   "execution_count": 8,
   "id": "e8490815",
   "metadata": {
    "execution": {
     "iopub.execute_input": "2024-10-31T20:32:08.223974Z",
     "iopub.status.busy": "2024-10-31T20:32:08.223058Z",
     "iopub.status.idle": "2024-10-31T20:32:08.239007Z",
     "shell.execute_reply": "2024-10-31T20:32:08.237754Z"
    },
    "papermill": {
     "duration": 0.031178,
     "end_time": "2024-10-31T20:32:08.241846",
     "exception": false,
     "start_time": "2024-10-31T20:32:08.210668",
     "status": "completed"
    },
    "tags": []
   },
   "outputs": [],
   "source": [
    "def Feature_Engineering(df):\n",
    "    train_df = pd.DataFrame(df)\n",
    "\n",
    "    \n",
    "#   train_df['true_range'] = train_df[['high', 'low', 'close']].max(axis=1) - train_df[['high', 'low', 'close']].min(axis=1)    -->BAD INDICATORS\n",
    "#   train_df['atr'] = (train_df[['high', 'low', 'close']].max(axis=1) - train_df[['high', 'low', 'close']].min(axis=1)).rolling(window=14).mean()     -->BAD INDICATOR\n",
    "    \n",
    "    train_df['sma_5'] = train_df['close'].rolling(window=5).mean()\n",
    "    train_df['sma_10'] = train_df['close'].rolling(window=10).mean()\n",
    "    train_df['sma_shift_5'] = train_df['close_shift_1'].rolling(window=5).mean()\n",
    "    train_df['sma_shiftmedian_5'] = train_df['close_shift_1'].rolling(window=5).median()\n",
    "    train_df['sma_shiftmedian_10'] = train_df['close_shift_1'].rolling(window=10).median()\n",
    "\n",
    "    \n",
    "    train_df['sma_20'] = train_df['close'].rolling(window=20).mean()\n",
    "\n",
    "    train_df['bb_up'] = train_df['sma_20'] + ((train_df['close'].rolling(window=20).std()) * 2)\n",
    "    train_df['bb_low'] = train_df['sma_20'] - ((train_df['close'].rolling(window=20).std()) * 2)\n",
    "    \n",
    "    train_df['ema_5'] = train_df['close'].ewm(span=5, adjust=False).mean()\n",
    "    train_df['ema_10'] = train_df['close'].ewm(span=10, adjust=False).mean()\n",
    "    train_df['ema_shift_5'] = train_df['close_shift_1'].ewm(span=5, adjust=False).mean()\n",
    "    train_df['ema_crossover'] = train_df['ema_5'] - train_df['ema_10']\n",
    "    train_df['close_diff'] = train_df['close'] - train_df['close_shift_1']\n",
    "    train_df['close_shift_1_volatility'] = train_df['close_shift_1'].rolling(window=10).std()\n",
    "    \n",
    "    train_df['close_shift_1_ma20'] = train_df['close_shift_1'].rolling(window=20).mean()\n",
    "    train_df['close_shift_1_upper_bb'] = train_df['close_shift_1_ma20'] + 2 * train_df['close_shift_1_volatility']\n",
    "    train_df['close_shift_1_lower_bb'] = train_df['close_shift_1_ma20'] - 2 * train_df['close_shift_1_volatility']\n",
    "    train_df['close_momentum_5'] = train_df['close'] - train_df['close'].shift(5)\n",
    "    train_df['close_to_shift_ratio'] = train_df['close'] / train_df['close_shift_1']\n",
    "\n",
    "    \n",
    "    return train_df\n",
    "\n",
    "\n",
    "\n"
   ]
  },
  {
   "cell_type": "code",
   "execution_count": 9,
   "id": "b1b5dd67",
   "metadata": {
    "execution": {
     "iopub.execute_input": "2024-10-31T20:32:08.267367Z",
     "iopub.status.busy": "2024-10-31T20:32:08.266966Z",
     "iopub.status.idle": "2024-10-31T20:32:11.399354Z",
     "shell.execute_reply": "2024-10-31T20:32:11.398023Z"
    },
    "papermill": {
     "duration": 3.148227,
     "end_time": "2024-10-31T20:32:11.402263",
     "exception": false,
     "start_time": "2024-10-31T20:32:08.254036",
     "status": "completed"
    },
    "tags": []
   },
   "outputs": [],
   "source": [
    "train_df = Feature_Engineering(train_df)\n",
    "test_df = Feature_Engineering(test_df)\n"
   ]
  },
  {
   "cell_type": "code",
   "execution_count": 10,
   "id": "56e70f67",
   "metadata": {
    "execution": {
     "iopub.execute_input": "2024-10-31T20:32:11.426147Z",
     "iopub.status.busy": "2024-10-31T20:32:11.425672Z",
     "iopub.status.idle": "2024-10-31T20:32:12.115318Z",
     "shell.execute_reply": "2024-10-31T20:32:12.113820Z"
    },
    "papermill": {
     "duration": 0.705285,
     "end_time": "2024-10-31T20:32:12.118464",
     "exception": false,
     "start_time": "2024-10-31T20:32:11.413179",
     "status": "completed"
    },
    "tags": []
   },
   "outputs": [],
   "source": [
    "train_df = train_df.dropna()"
   ]
  },
  {
   "cell_type": "code",
   "execution_count": 11,
   "id": "658b8ed6",
   "metadata": {
    "execution": {
     "iopub.execute_input": "2024-10-31T20:32:12.143519Z",
     "iopub.status.busy": "2024-10-31T20:32:12.143104Z",
     "iopub.status.idle": "2024-10-31T20:32:12.151788Z",
     "shell.execute_reply": "2024-10-31T20:32:12.150566Z"
    },
    "papermill": {
     "duration": 0.024403,
     "end_time": "2024-10-31T20:32:12.154645",
     "exception": false,
     "start_time": "2024-10-31T20:32:12.130242",
     "status": "completed"
    },
    "tags": []
   },
   "outputs": [
    {
     "data": {
      "text/plain": [
       "Index(['open', 'high', 'low', 'close', 'volume', 'quote_asset_volume',\n",
       "       'number_of_trades', 'taker_buy_base_volume', 'taker_buy_quote_volume',\n",
       "       'target', 'minute', 'close_shift_1', 'close_shift_2', 'close_shift_3',\n",
       "       'close_shift_4', 'close_shift_5', 'sma_5', 'sma_10', 'sma_shift_5',\n",
       "       'sma_shiftmedian_5', 'sma_shiftmedian_10', 'sma_20', 'bb_up', 'bb_low',\n",
       "       'ema_5', 'ema_10', 'ema_shift_5', 'ema_crossover', 'close_diff',\n",
       "       'close_shift_1_volatility', 'close_shift_1_ma20',\n",
       "       'close_shift_1_upper_bb', 'close_shift_1_lower_bb', 'close_momentum_5',\n",
       "       'close_to_shift_ratio'],\n",
       "      dtype='object')"
      ]
     },
     "execution_count": 11,
     "metadata": {},
     "output_type": "execute_result"
    }
   ],
   "source": [
    "train_df.columns"
   ]
  },
  {
   "cell_type": "code",
   "execution_count": 12,
   "id": "32cb3c9c",
   "metadata": {
    "execution": {
     "iopub.execute_input": "2024-10-31T20:32:12.179047Z",
     "iopub.status.busy": "2024-10-31T20:32:12.178573Z",
     "iopub.status.idle": "2024-10-31T20:32:16.294470Z",
     "shell.execute_reply": "2024-10-31T20:32:16.293360Z"
    },
    "papermill": {
     "duration": 4.131584,
     "end_time": "2024-10-31T20:32:16.297537",
     "exception": false,
     "start_time": "2024-10-31T20:32:12.165953",
     "status": "completed"
    },
    "tags": []
   },
   "outputs": [],
   "source": [
    "from sklearn.model_selection import train_test_split\n",
    "\n",
    "X, y = train_df.drop(columns=['target']), train_df['target']\n",
    "X_train, X_test, y_train, y_test = train_test_split(X, y, test_size=0.2, random_state=42, stratify=y)\n",
    "\n",
    "from sklearn.preprocessing import MinMaxScaler\n",
    "\n",
    "scaler = MinMaxScaler()\n",
    "X_train_scaled = scaler.fit_transform(X_train)\n",
    "X_test_scaled = scaler.transform(X_test)"
   ]
  },
  {
   "cell_type": "code",
   "execution_count": 13,
   "id": "d7b97b55",
   "metadata": {
    "execution": {
     "iopub.execute_input": "2024-10-31T20:32:16.322228Z",
     "iopub.status.busy": "2024-10-31T20:32:16.321771Z",
     "iopub.status.idle": "2024-10-31T20:45:01.488068Z",
     "shell.execute_reply": "2024-10-31T20:45:01.486822Z"
    },
    "papermill": {
     "duration": 765.204331,
     "end_time": "2024-10-31T20:45:01.513183",
     "exception": false,
     "start_time": "2024-10-31T20:32:16.308852",
     "status": "completed"
    },
    "tags": []
   },
   "outputs": [
    {
     "name": "stderr",
     "output_type": "stream",
     "text": [
      "[Parallel(n_jobs=-1)]: Using backend ThreadingBackend with 4 concurrent workers.\n"
     ]
    },
    {
     "name": "stdout",
     "output_type": "stream",
     "text": [
      "building tree 1 of 110\n",
      "building tree 2 of 110\n",
      "building tree 3 of 110\n",
      "building tree 4 of 110\n",
      "building tree 5 of 110\n",
      "building tree 6 of 110\n",
      "building tree 7 of 110\n",
      "building tree 8 of 110\n",
      "building tree 9 of 110\n",
      "building tree 10 of 110\n",
      "building tree 11 of 110\n",
      "building tree 12 of 110\n",
      "building tree 13 of 110\n",
      "building tree 14 of 110\n",
      "building tree 15 of 110\n",
      "building tree 16 of 110\n",
      "building tree 17 of 110\n",
      "building tree 18 of 110\n",
      "building tree 19 of 110\n",
      "building tree 20 of 110\n",
      "building tree 21 of 110\n",
      "building tree 22 of 110\n",
      "building tree 23 of 110\n",
      "building tree 24 of 110\n",
      "building tree 25 of 110\n",
      "building tree 26 of 110\n",
      "building tree 27 of 110\n",
      "building tree 28 of 110\n",
      "building tree 29 of 110\n",
      "building tree 30 of 110\n",
      "building tree 31 of 110\n",
      "building tree 32 of 110\n",
      "building tree 33 of 110\n",
      "building tree 34 of 110\n",
      "building tree 35 of 110\n",
      "building tree 36 of 110\n",
      "building tree 37 of 110\n"
     ]
    },
    {
     "name": "stderr",
     "output_type": "stream",
     "text": [
      "[Parallel(n_jobs=-1)]: Done  33 tasks      | elapsed:  4.0min\n"
     ]
    },
    {
     "name": "stdout",
     "output_type": "stream",
     "text": [
      "building tree 38 of 110\n",
      "building tree 39 of 110\n",
      "building tree 40 of 110\n",
      "building tree 41 of 110\n",
      "building tree 42 of 110\n",
      "building tree 43 of 110\n",
      "building tree 44 of 110\n",
      "building tree 45 of 110\n",
      "building tree 46 of 110\n",
      "building tree 47 of 110\n",
      "building tree 48 of 110\n",
      "building tree 49 of 110\n",
      "building tree 50 of 110\n",
      "building tree 51 of 110\n",
      "building tree 52 of 110\n",
      "building tree 53 of 110\n",
      "building tree 54 of 110\n",
      "building tree 55 of 110\n",
      "building tree 56 of 110\n",
      "building tree 57 of 110\n",
      "building tree 58 of 110\n",
      "building tree 59 of 110\n",
      "building tree 60 of 110\n",
      "building tree 61 of 110\n",
      "building tree 62 of 110\n",
      "building tree 63 of 110\n",
      "building tree 64 of 110\n",
      "building tree 65 of 110\n",
      "building tree 66 of 110\n",
      "building tree 67 of 110\n",
      "building tree 68 of 110\n",
      "building tree 69 of 110\n",
      "building tree 70 of 110\n",
      "building tree 71 of 110\n",
      "building tree 72 of 110\n",
      "building tree 73 of 110\n",
      "building tree 74 of 110\n",
      "building tree 75 of 110\n",
      "building tree 76 of 110\n",
      "building tree 77 of 110\n",
      "building tree 78 of 110\n",
      "building tree 79 of 110\n",
      "building tree 80 of 110\n",
      "building tree 81 of 110\n",
      "building tree 82 of 110\n",
      "building tree 83 of 110\n",
      "building tree 84 of 110\n",
      "building tree 85 of 110\n",
      "building tree 86 of 110\n",
      "building tree 87 of 110\n",
      "building tree 88 of 110\n",
      "building tree 89 of 110\n",
      "building tree 90 of 110\n",
      "building tree 91 of 110\n",
      "building tree 92 of 110\n",
      "building tree 93 of 110\n",
      "building tree 94 of 110\n",
      "building tree 95 of 110\n",
      "building tree 96 of 110\n",
      "building tree 97 of 110\n",
      "building tree 98 of 110\n",
      "building tree 99 of 110\n",
      "building tree 100 of 110\n",
      "building tree 101 of 110\n",
      "building tree 102 of 110\n",
      "building tree 103 of 110\n",
      "building tree 104 of 110\n",
      "building tree 105 of 110\n",
      "building tree 106 of 110\n",
      "building tree 107 of 110\n",
      "building tree 108 of 110\n",
      "building tree 109 of 110\n",
      "building tree 110 of 110\n"
     ]
    },
    {
     "name": "stderr",
     "output_type": "stream",
     "text": [
      "[Parallel(n_jobs=-1)]: Done 110 out of 110 | elapsed: 12.7min finished\n"
     ]
    },
    {
     "data": {
      "text/html": [
       "<style>#sk-container-id-1 {color: black;background-color: white;}#sk-container-id-1 pre{padding: 0;}#sk-container-id-1 div.sk-toggleable {background-color: white;}#sk-container-id-1 label.sk-toggleable__label {cursor: pointer;display: block;width: 100%;margin-bottom: 0;padding: 0.3em;box-sizing: border-box;text-align: center;}#sk-container-id-1 label.sk-toggleable__label-arrow:before {content: \"▸\";float: left;margin-right: 0.25em;color: #696969;}#sk-container-id-1 label.sk-toggleable__label-arrow:hover:before {color: black;}#sk-container-id-1 div.sk-estimator:hover label.sk-toggleable__label-arrow:before {color: black;}#sk-container-id-1 div.sk-toggleable__content {max-height: 0;max-width: 0;overflow: hidden;text-align: left;background-color: #f0f8ff;}#sk-container-id-1 div.sk-toggleable__content pre {margin: 0.2em;color: black;border-radius: 0.25em;background-color: #f0f8ff;}#sk-container-id-1 input.sk-toggleable__control:checked~div.sk-toggleable__content {max-height: 200px;max-width: 100%;overflow: auto;}#sk-container-id-1 input.sk-toggleable__control:checked~label.sk-toggleable__label-arrow:before {content: \"▾\";}#sk-container-id-1 div.sk-estimator input.sk-toggleable__control:checked~label.sk-toggleable__label {background-color: #d4ebff;}#sk-container-id-1 div.sk-label input.sk-toggleable__control:checked~label.sk-toggleable__label {background-color: #d4ebff;}#sk-container-id-1 input.sk-hidden--visually {border: 0;clip: rect(1px 1px 1px 1px);clip: rect(1px, 1px, 1px, 1px);height: 1px;margin: -1px;overflow: hidden;padding: 0;position: absolute;width: 1px;}#sk-container-id-1 div.sk-estimator {font-family: monospace;background-color: #f0f8ff;border: 1px dotted black;border-radius: 0.25em;box-sizing: border-box;margin-bottom: 0.5em;}#sk-container-id-1 div.sk-estimator:hover {background-color: #d4ebff;}#sk-container-id-1 div.sk-parallel-item::after {content: \"\";width: 100%;border-bottom: 1px solid gray;flex-grow: 1;}#sk-container-id-1 div.sk-label:hover label.sk-toggleable__label {background-color: #d4ebff;}#sk-container-id-1 div.sk-serial::before {content: \"\";position: absolute;border-left: 1px solid gray;box-sizing: border-box;top: 0;bottom: 0;left: 50%;z-index: 0;}#sk-container-id-1 div.sk-serial {display: flex;flex-direction: column;align-items: center;background-color: white;padding-right: 0.2em;padding-left: 0.2em;position: relative;}#sk-container-id-1 div.sk-item {position: relative;z-index: 1;}#sk-container-id-1 div.sk-parallel {display: flex;align-items: stretch;justify-content: center;background-color: white;position: relative;}#sk-container-id-1 div.sk-item::before, #sk-container-id-1 div.sk-parallel-item::before {content: \"\";position: absolute;border-left: 1px solid gray;box-sizing: border-box;top: 0;bottom: 0;left: 50%;z-index: -1;}#sk-container-id-1 div.sk-parallel-item {display: flex;flex-direction: column;z-index: 1;position: relative;background-color: white;}#sk-container-id-1 div.sk-parallel-item:first-child::after {align-self: flex-end;width: 50%;}#sk-container-id-1 div.sk-parallel-item:last-child::after {align-self: flex-start;width: 50%;}#sk-container-id-1 div.sk-parallel-item:only-child::after {width: 0;}#sk-container-id-1 div.sk-dashed-wrapped {border: 1px dashed gray;margin: 0 0.4em 0.5em 0.4em;box-sizing: border-box;padding-bottom: 0.4em;background-color: white;}#sk-container-id-1 div.sk-label label {font-family: monospace;font-weight: bold;display: inline-block;line-height: 1.2em;}#sk-container-id-1 div.sk-label-container {text-align: center;}#sk-container-id-1 div.sk-container {/* jupyter's `normalize.less` sets `[hidden] { display: none; }` but bootstrap.min.css set `[hidden] { display: none !important; }` so we also need the `!important` here to be able to override the default hidden behavior on the sphinx rendered scikit-learn.org. See: https://github.com/scikit-learn/scikit-learn/issues/21755 */display: inline-block !important;position: relative;}#sk-container-id-1 div.sk-text-repr-fallback {display: none;}</style><div id=\"sk-container-id-1\" class=\"sk-top-container\"><div class=\"sk-text-repr-fallback\"><pre>RandomForestClassifier(max_depth=40, n_estimators=110, n_jobs=-1,\n",
       "                       random_state=42, verbose=2)</pre><b>In a Jupyter environment, please rerun this cell to show the HTML representation or trust the notebook. <br />On GitHub, the HTML representation is unable to render, please try loading this page with nbviewer.org.</b></div><div class=\"sk-container\" hidden><div class=\"sk-item\"><div class=\"sk-estimator sk-toggleable\"><input class=\"sk-toggleable__control sk-hidden--visually\" id=\"sk-estimator-id-1\" type=\"checkbox\" checked><label for=\"sk-estimator-id-1\" class=\"sk-toggleable__label sk-toggleable__label-arrow\">RandomForestClassifier</label><div class=\"sk-toggleable__content\"><pre>RandomForestClassifier(max_depth=40, n_estimators=110, n_jobs=-1,\n",
       "                       random_state=42, verbose=2)</pre></div></div></div></div></div>"
      ],
      "text/plain": [
       "RandomForestClassifier(max_depth=40, n_estimators=110, n_jobs=-1,\n",
       "                       random_state=42, verbose=2)"
      ]
     },
     "execution_count": 13,
     "metadata": {},
     "output_type": "execute_result"
    }
   ],
   "source": [
    "from sklearn.ensemble import RandomForestClassifier\n",
    "\n",
    "model = RandomForestClassifier(random_state=42, n_estimators=110, n_jobs=-1, verbose=2, max_depth=40)\n",
    "model.fit(X_train_scaled, y_train)"
   ]
  },
  {
   "cell_type": "code",
   "execution_count": 14,
   "id": "7530f756",
   "metadata": {
    "execution": {
     "iopub.execute_input": "2024-10-31T20:45:01.559190Z",
     "iopub.status.busy": "2024-10-31T20:45:01.558697Z",
     "iopub.status.idle": "2024-10-31T20:45:04.333449Z",
     "shell.execute_reply": "2024-10-31T20:45:04.332325Z"
    },
    "papermill": {
     "duration": 2.801454,
     "end_time": "2024-10-31T20:45:04.336213",
     "exception": false,
     "start_time": "2024-10-31T20:45:01.534759",
     "status": "completed"
    },
    "tags": []
   },
   "outputs": [
    {
     "name": "stderr",
     "output_type": "stream",
     "text": [
      "[Parallel(n_jobs=4)]: Using backend ThreadingBackend with 4 concurrent workers.\n",
      "[Parallel(n_jobs=4)]: Done  33 tasks      | elapsed:    0.9s\n",
      "[Parallel(n_jobs=4)]: Done 110 out of 110 | elapsed:    2.7s finished\n"
     ]
    }
   ],
   "source": [
    "y_predictions = model.predict(X_test_scaled)\n"
   ]
  },
  {
   "cell_type": "code",
   "execution_count": 15,
   "id": "640f4149",
   "metadata": {
    "execution": {
     "iopub.execute_input": "2024-10-31T20:45:04.381941Z",
     "iopub.status.busy": "2024-10-31T20:45:04.381470Z",
     "iopub.status.idle": "2024-10-31T20:45:05.567134Z",
     "shell.execute_reply": "2024-10-31T20:45:05.566008Z"
    },
    "papermill": {
     "duration": 1.211725,
     "end_time": "2024-10-31T20:45:05.569931",
     "exception": false,
     "start_time": "2024-10-31T20:45:04.358206",
     "status": "completed"
    },
    "tags": []
   },
   "outputs": [
    {
     "name": "stdout",
     "output_type": "stream",
     "text": [
      "0.9983227252418865\n",
      "              precision    recall  f1-score   support\n",
      "\n",
      "         0.0       1.00      1.00      1.00    215042\n",
      "         1.0       1.00      1.00      1.00    194551\n",
      "\n",
      "    accuracy                           1.00    409593\n",
      "   macro avg       1.00      1.00      1.00    409593\n",
      "weighted avg       1.00      1.00      1.00    409593\n",
      "\n"
     ]
    }
   ],
   "source": [
    "from sklearn.metrics import accuracy_score, classification_report\n",
    "\n",
    "print(accuracy_score(y_test, y_predictions))\n",
    "\n",
    "print(classification_report(y_test, y_predictions))"
   ]
  },
  {
   "cell_type": "code",
   "execution_count": 16,
   "id": "e46c234c",
   "metadata": {
    "execution": {
     "iopub.execute_input": "2024-10-31T20:45:05.615368Z",
     "iopub.status.busy": "2024-10-31T20:45:05.614941Z",
     "iopub.status.idle": "2024-10-31T20:45:05.671265Z",
     "shell.execute_reply": "2024-10-31T20:45:05.670263Z"
    },
    "papermill": {
     "duration": 0.082169,
     "end_time": "2024-10-31T20:45:05.673908",
     "exception": false,
     "start_time": "2024-10-31T20:45:05.591739",
     "status": "completed"
    },
    "tags": []
   },
   "outputs": [
    {
     "data": {
      "text/html": [
       "<div>\n",
       "<style scoped>\n",
       "    .dataframe tbody tr th:only-of-type {\n",
       "        vertical-align: middle;\n",
       "    }\n",
       "\n",
       "    .dataframe tbody tr th {\n",
       "        vertical-align: top;\n",
       "    }\n",
       "\n",
       "    .dataframe thead th {\n",
       "        text-align: right;\n",
       "    }\n",
       "</style>\n",
       "<table border=\"1\" class=\"dataframe\">\n",
       "  <thead>\n",
       "    <tr style=\"text-align: right;\">\n",
       "      <th></th>\n",
       "      <th>feature</th>\n",
       "      <th>importance</th>\n",
       "    </tr>\n",
       "  </thead>\n",
       "  <tbody>\n",
       "    <tr>\n",
       "      <th>27</th>\n",
       "      <td>close_diff</td>\n",
       "      <td>0.536047</td>\n",
       "    </tr>\n",
       "    <tr>\n",
       "      <th>33</th>\n",
       "      <td>close_to_shift_ratio</td>\n",
       "      <td>0.454401</td>\n",
       "    </tr>\n",
       "    <tr>\n",
       "      <th>28</th>\n",
       "      <td>close_shift_1_volatility</td>\n",
       "      <td>0.000878</td>\n",
       "    </tr>\n",
       "    <tr>\n",
       "      <th>32</th>\n",
       "      <td>close_momentum_5</td>\n",
       "      <td>0.000794</td>\n",
       "    </tr>\n",
       "    <tr>\n",
       "      <th>26</th>\n",
       "      <td>ema_crossover</td>\n",
       "      <td>0.000621</td>\n",
       "    </tr>\n",
       "    <tr>\n",
       "      <th>6</th>\n",
       "      <td>number_of_trades</td>\n",
       "      <td>0.000494</td>\n",
       "    </tr>\n",
       "    <tr>\n",
       "      <th>4</th>\n",
       "      <td>volume</td>\n",
       "      <td>0.000389</td>\n",
       "    </tr>\n",
       "    <tr>\n",
       "      <th>5</th>\n",
       "      <td>quote_asset_volume</td>\n",
       "      <td>0.000388</td>\n",
       "    </tr>\n",
       "    <tr>\n",
       "      <th>8</th>\n",
       "      <td>taker_buy_quote_volume</td>\n",
       "      <td>0.000362</td>\n",
       "    </tr>\n",
       "    <tr>\n",
       "      <th>7</th>\n",
       "      <td>taker_buy_base_volume</td>\n",
       "      <td>0.000345</td>\n",
       "    </tr>\n",
       "    <tr>\n",
       "      <th>10</th>\n",
       "      <td>close_shift_1</td>\n",
       "      <td>0.000315</td>\n",
       "    </tr>\n",
       "    <tr>\n",
       "      <th>3</th>\n",
       "      <td>close</td>\n",
       "      <td>0.000279</td>\n",
       "    </tr>\n",
       "    <tr>\n",
       "      <th>11</th>\n",
       "      <td>close_shift_2</td>\n",
       "      <td>0.000250</td>\n",
       "    </tr>\n",
       "    <tr>\n",
       "      <th>9</th>\n",
       "      <td>minute</td>\n",
       "      <td>0.000236</td>\n",
       "    </tr>\n",
       "    <tr>\n",
       "      <th>12</th>\n",
       "      <td>close_shift_3</td>\n",
       "      <td>0.000233</td>\n",
       "    </tr>\n",
       "    <tr>\n",
       "      <th>13</th>\n",
       "      <td>close_shift_4</td>\n",
       "      <td>0.000228</td>\n",
       "    </tr>\n",
       "    <tr>\n",
       "      <th>31</th>\n",
       "      <td>close_shift_1_lower_bb</td>\n",
       "      <td>0.000224</td>\n",
       "    </tr>\n",
       "    <tr>\n",
       "      <th>1</th>\n",
       "      <td>high</td>\n",
       "      <td>0.000224</td>\n",
       "    </tr>\n",
       "    <tr>\n",
       "      <th>24</th>\n",
       "      <td>ema_10</td>\n",
       "      <td>0.000221</td>\n",
       "    </tr>\n",
       "    <tr>\n",
       "      <th>22</th>\n",
       "      <td>bb_low</td>\n",
       "      <td>0.000221</td>\n",
       "    </tr>\n",
       "    <tr>\n",
       "      <th>23</th>\n",
       "      <td>ema_5</td>\n",
       "      <td>0.000217</td>\n",
       "    </tr>\n",
       "    <tr>\n",
       "      <th>2</th>\n",
       "      <td>low</td>\n",
       "      <td>0.000216</td>\n",
       "    </tr>\n",
       "    <tr>\n",
       "      <th>15</th>\n",
       "      <td>sma_5</td>\n",
       "      <td>0.000215</td>\n",
       "    </tr>\n",
       "    <tr>\n",
       "      <th>21</th>\n",
       "      <td>bb_up</td>\n",
       "      <td>0.000214</td>\n",
       "    </tr>\n",
       "    <tr>\n",
       "      <th>14</th>\n",
       "      <td>close_shift_5</td>\n",
       "      <td>0.000214</td>\n",
       "    </tr>\n",
       "    <tr>\n",
       "      <th>30</th>\n",
       "      <td>close_shift_1_upper_bb</td>\n",
       "      <td>0.000207</td>\n",
       "    </tr>\n",
       "    <tr>\n",
       "      <th>0</th>\n",
       "      <td>open</td>\n",
       "      <td>0.000206</td>\n",
       "    </tr>\n",
       "    <tr>\n",
       "      <th>16</th>\n",
       "      <td>sma_10</td>\n",
       "      <td>0.000201</td>\n",
       "    </tr>\n",
       "    <tr>\n",
       "      <th>25</th>\n",
       "      <td>ema_shift_5</td>\n",
       "      <td>0.000200</td>\n",
       "    </tr>\n",
       "    <tr>\n",
       "      <th>20</th>\n",
       "      <td>sma_20</td>\n",
       "      <td>0.000198</td>\n",
       "    </tr>\n",
       "    <tr>\n",
       "      <th>17</th>\n",
       "      <td>sma_shift_5</td>\n",
       "      <td>0.000196</td>\n",
       "    </tr>\n",
       "    <tr>\n",
       "      <th>29</th>\n",
       "      <td>close_shift_1_ma20</td>\n",
       "      <td>0.000195</td>\n",
       "    </tr>\n",
       "    <tr>\n",
       "      <th>19</th>\n",
       "      <td>sma_shiftmedian_10</td>\n",
       "      <td>0.000185</td>\n",
       "    </tr>\n",
       "    <tr>\n",
       "      <th>18</th>\n",
       "      <td>sma_shiftmedian_5</td>\n",
       "      <td>0.000184</td>\n",
       "    </tr>\n",
       "  </tbody>\n",
       "</table>\n",
       "</div>"
      ],
      "text/plain": [
       "                     feature  importance\n",
       "27                close_diff    0.536047\n",
       "33      close_to_shift_ratio    0.454401\n",
       "28  close_shift_1_volatility    0.000878\n",
       "32          close_momentum_5    0.000794\n",
       "26             ema_crossover    0.000621\n",
       "6           number_of_trades    0.000494\n",
       "4                     volume    0.000389\n",
       "5         quote_asset_volume    0.000388\n",
       "8     taker_buy_quote_volume    0.000362\n",
       "7      taker_buy_base_volume    0.000345\n",
       "10             close_shift_1    0.000315\n",
       "3                      close    0.000279\n",
       "11             close_shift_2    0.000250\n",
       "9                     minute    0.000236\n",
       "12             close_shift_3    0.000233\n",
       "13             close_shift_4    0.000228\n",
       "31    close_shift_1_lower_bb    0.000224\n",
       "1                       high    0.000224\n",
       "24                    ema_10    0.000221\n",
       "22                    bb_low    0.000221\n",
       "23                     ema_5    0.000217\n",
       "2                        low    0.000216\n",
       "15                     sma_5    0.000215\n",
       "21                     bb_up    0.000214\n",
       "14             close_shift_5    0.000214\n",
       "30    close_shift_1_upper_bb    0.000207\n",
       "0                       open    0.000206\n",
       "16                    sma_10    0.000201\n",
       "25               ema_shift_5    0.000200\n",
       "20                    sma_20    0.000198\n",
       "17               sma_shift_5    0.000196\n",
       "29        close_shift_1_ma20    0.000195\n",
       "19        sma_shiftmedian_10    0.000185\n",
       "18         sma_shiftmedian_5    0.000184"
      ]
     },
     "execution_count": 16,
     "metadata": {},
     "output_type": "execute_result"
    }
   ],
   "source": [
    "importance_df = pd.DataFrame({\n",
    "    'feature': X_train.columns,\n",
    "    'importance': model.feature_importances_\n",
    "}).sort_values('importance', ascending=False)\n",
    "\n",
    "importance_df"
   ]
  },
  {
   "cell_type": "code",
   "execution_count": 17,
   "id": "7eef3532",
   "metadata": {
    "execution": {
     "iopub.execute_input": "2024-10-31T20:45:05.721663Z",
     "iopub.status.busy": "2024-10-31T20:45:05.721221Z",
     "iopub.status.idle": "2024-10-31T20:45:05.731865Z",
     "shell.execute_reply": "2024-10-31T20:45:05.730403Z"
    },
    "papermill": {
     "duration": 0.037311,
     "end_time": "2024-10-31T20:45:05.734419",
     "exception": false,
     "start_time": "2024-10-31T20:45:05.697108",
     "status": "completed"
    },
    "tags": []
   },
   "outputs": [
    {
     "data": {
      "text/plain": [
       "[36,\n",
       " 36,\n",
       " 38,\n",
       " 36,\n",
       " 40,\n",
       " 34,\n",
       " 39,\n",
       " 36,\n",
       " 40,\n",
       " 40,\n",
       " 37,\n",
       " 40,\n",
       " 39,\n",
       " 32,\n",
       " 39,\n",
       " 40,\n",
       " 35,\n",
       " 35,\n",
       " 38,\n",
       " 34,\n",
       " 38,\n",
       " 40,\n",
       " 39,\n",
       " 35,\n",
       " 33,\n",
       " 37,\n",
       " 37,\n",
       " 40,\n",
       " 34,\n",
       " 34,\n",
       " 38,\n",
       " 36,\n",
       " 32,\n",
       " 34,\n",
       " 36,\n",
       " 38,\n",
       " 34,\n",
       " 36,\n",
       " 39,\n",
       " 35,\n",
       " 38,\n",
       " 40,\n",
       " 34,\n",
       " 39,\n",
       " 40,\n",
       " 34,\n",
       " 32,\n",
       " 36,\n",
       " 38,\n",
       " 37,\n",
       " 40,\n",
       " 35,\n",
       " 40,\n",
       " 34,\n",
       " 36,\n",
       " 29,\n",
       " 40,\n",
       " 40,\n",
       " 35,\n",
       " 35,\n",
       " 38,\n",
       " 34,\n",
       " 33,\n",
       " 40,\n",
       " 35,\n",
       " 35,\n",
       " 33,\n",
       " 38,\n",
       " 36,\n",
       " 40,\n",
       " 40,\n",
       " 36,\n",
       " 36,\n",
       " 39,\n",
       " 40,\n",
       " 37,\n",
       " 38,\n",
       " 36,\n",
       " 40,\n",
       " 40,\n",
       " 40,\n",
       " 32,\n",
       " 40,\n",
       " 40,\n",
       " 36,\n",
       " 39,\n",
       " 36,\n",
       " 38,\n",
       " 35,\n",
       " 37,\n",
       " 34,\n",
       " 38,\n",
       " 40,\n",
       " 34,\n",
       " 40,\n",
       " 37,\n",
       " 40,\n",
       " 38,\n",
       " 35,\n",
       " 37,\n",
       " 38,\n",
       " 38,\n",
       " 32,\n",
       " 37,\n",
       " 40,\n",
       " 34,\n",
       " 36,\n",
       " 37,\n",
       " 38,\n",
       " 33]"
      ]
     },
     "execution_count": 17,
     "metadata": {},
     "output_type": "execute_result"
    }
   ],
   "source": [
    "tree_depths = [estimator.tree_.max_depth for estimator in model.estimators_]\n",
    "tree_depths"
   ]
  },
  {
   "cell_type": "code",
   "execution_count": 18,
   "id": "4f67e2aa",
   "metadata": {
    "execution": {
     "iopub.execute_input": "2024-10-31T20:45:05.782716Z",
     "iopub.status.busy": "2024-10-31T20:45:05.782289Z",
     "iopub.status.idle": "2024-10-31T20:45:05.789381Z",
     "shell.execute_reply": "2024-10-31T20:45:05.788107Z"
    },
    "papermill": {
     "duration": 0.034491,
     "end_time": "2024-10-31T20:45:05.791868",
     "exception": false,
     "start_time": "2024-10-31T20:45:05.757377",
     "status": "completed"
    },
    "tags": []
   },
   "outputs": [],
   "source": [
    "input_cols=['open', 'high', 'low', 'close', 'volume', 'quote_asset_volume',\n",
    "       'number_of_trades', 'taker_buy_base_volume', 'taker_buy_quote_volume',\n",
    "       'minute', 'close_shift_1', 'close_shift_2', 'close_shift_3',\n",
    "       'close_shift_4', 'close_shift_5', 'sma_5', 'sma_10', 'sma_shift_5',\n",
    "       'sma_shiftmedian_5', 'sma_shiftmedian_10', 'sma_20', 'bb_up', 'bb_low',\n",
    "       'ema_5', 'ema_10', 'ema_shift_5', 'ema_crossover', 'close_diff',\n",
    "       'close_shift_1_volatility', 'close_shift_1_ma20',\n",
    "       'close_shift_1_upper_bb', 'close_shift_1_lower_bb', 'close_momentum_5',\n",
    "       'close_to_shift_ratio']"
   ]
  },
  {
   "cell_type": "code",
   "execution_count": 19,
   "id": "da789fb8",
   "metadata": {
    "execution": {
     "iopub.execute_input": "2024-10-31T20:45:05.841418Z",
     "iopub.status.busy": "2024-10-31T20:45:05.840478Z",
     "iopub.status.idle": "2024-10-31T20:45:06.947900Z",
     "shell.execute_reply": "2024-10-31T20:45:06.946119Z"
    },
    "papermill": {
     "duration": 1.135731,
     "end_time": "2024-10-31T20:45:06.951335",
     "exception": false,
     "start_time": "2024-10-31T20:45:05.815604",
     "status": "completed"
    },
    "tags": []
   },
   "outputs": [],
   "source": [
    "from sklearn.impute import SimpleImputer\n",
    "\n",
    "imputer = SimpleImputer(strategy='mean')  \n",
    "test_df[input_cols] = imputer.fit_transform(test_df[input_cols])\n"
   ]
  },
  {
   "cell_type": "code",
   "execution_count": 20,
   "id": "6bc6563f",
   "metadata": {
    "execution": {
     "iopub.execute_input": "2024-10-31T20:45:07.005478Z",
     "iopub.status.busy": "2024-10-31T20:45:07.005033Z",
     "iopub.status.idle": "2024-10-31T20:45:07.493093Z",
     "shell.execute_reply": "2024-10-31T20:45:07.491981Z"
    },
    "papermill": {
     "duration": 0.516448,
     "end_time": "2024-10-31T20:45:07.495809",
     "exception": false,
     "start_time": "2024-10-31T20:45:06.979361",
     "status": "completed"
    },
    "tags": []
   },
   "outputs": [],
   "source": [
    "test_df[input_cols] = scaler.transform(test_df[input_cols])"
   ]
  },
  {
   "cell_type": "code",
   "execution_count": 21,
   "id": "76065c4c",
   "metadata": {
    "execution": {
     "iopub.execute_input": "2024-10-31T20:45:07.543623Z",
     "iopub.status.busy": "2024-10-31T20:45:07.543191Z",
     "iopub.status.idle": "2024-10-31T20:45:07.720891Z",
     "shell.execute_reply": "2024-10-31T20:45:07.719676Z"
    },
    "papermill": {
     "duration": 0.204867,
     "end_time": "2024-10-31T20:45:07.723641",
     "exception": false,
     "start_time": "2024-10-31T20:45:07.518774",
     "status": "completed"
    },
    "tags": []
   },
   "outputs": [],
   "source": [
    "test_df = test_df.drop(['row_id'], axis=1)"
   ]
  },
  {
   "cell_type": "code",
   "execution_count": 22,
   "id": "880319bd",
   "metadata": {
    "execution": {
     "iopub.execute_input": "2024-10-31T20:45:07.772214Z",
     "iopub.status.busy": "2024-10-31T20:45:07.771118Z",
     "iopub.status.idle": "2024-10-31T20:45:07.779574Z",
     "shell.execute_reply": "2024-10-31T20:45:07.778175Z"
    },
    "papermill": {
     "duration": 0.035428,
     "end_time": "2024-10-31T20:45:07.782170",
     "exception": false,
     "start_time": "2024-10-31T20:45:07.746742",
     "status": "completed"
    },
    "tags": []
   },
   "outputs": [
    {
     "data": {
      "text/plain": [
       "Index(['open', 'high', 'low', 'close', 'volume', 'quote_asset_volume',\n",
       "       'number_of_trades', 'taker_buy_base_volume', 'taker_buy_quote_volume',\n",
       "       'minute', 'close_shift_1', 'close_shift_2', 'close_shift_3',\n",
       "       'close_shift_4', 'close_shift_5', 'sma_5', 'sma_10', 'sma_shift_5',\n",
       "       'sma_shiftmedian_5', 'sma_shiftmedian_10', 'sma_20', 'bb_up', 'bb_low',\n",
       "       'ema_5', 'ema_10', 'ema_shift_5', 'ema_crossover', 'close_diff',\n",
       "       'close_shift_1_volatility', 'close_shift_1_ma20',\n",
       "       'close_shift_1_upper_bb', 'close_shift_1_lower_bb', 'close_momentum_5',\n",
       "       'close_to_shift_ratio'],\n",
       "      dtype='object')"
      ]
     },
     "execution_count": 22,
     "metadata": {},
     "output_type": "execute_result"
    }
   ],
   "source": [
    "test_df.columns"
   ]
  },
  {
   "cell_type": "code",
   "execution_count": 23,
   "id": "9071ceda",
   "metadata": {
    "execution": {
     "iopub.execute_input": "2024-10-31T20:45:07.830823Z",
     "iopub.status.busy": "2024-10-31T20:45:07.830344Z",
     "iopub.status.idle": "2024-10-31T20:45:12.960616Z",
     "shell.execute_reply": "2024-10-31T20:45:12.959531Z"
    },
    "papermill": {
     "duration": 5.157599,
     "end_time": "2024-10-31T20:45:12.963195",
     "exception": false,
     "start_time": "2024-10-31T20:45:07.805596",
     "status": "completed"
    },
    "tags": []
   },
   "outputs": [
    {
     "name": "stderr",
     "output_type": "stream",
     "text": [
      "/opt/conda/lib/python3.10/site-packages/sklearn/base.py:432: UserWarning: X has feature names, but RandomForestClassifier was fitted without feature names\n",
      "  warnings.warn(\n",
      "[Parallel(n_jobs=4)]: Using backend ThreadingBackend with 4 concurrent workers.\n",
      "[Parallel(n_jobs=4)]: Done  33 tasks      | elapsed:    1.5s\n",
      "[Parallel(n_jobs=4)]: Done 110 out of 110 | elapsed:    5.0s finished\n"
     ]
    }
   ],
   "source": [
    "test_target=model.predict(test_df)"
   ]
  },
  {
   "cell_type": "code",
   "execution_count": 24,
   "id": "6b648597",
   "metadata": {
    "execution": {
     "iopub.execute_input": "2024-10-31T20:45:13.014240Z",
     "iopub.status.busy": "2024-10-31T20:45:13.013357Z",
     "iopub.status.idle": "2024-10-31T20:45:14.655387Z",
     "shell.execute_reply": "2024-10-31T20:45:14.654163Z"
    },
    "papermill": {
     "duration": 1.67004,
     "end_time": "2024-10-31T20:45:14.658337",
     "exception": false,
     "start_time": "2024-10-31T20:45:12.988297",
     "status": "completed"
    },
    "tags": []
   },
   "outputs": [],
   "source": [
    "submission = pd.DataFrame({\n",
    "    'row_id': range(0, 909617),\n",
    "    'target': test_target\n",
    "})\n",
    "\n",
    "submission.to_csv('submission.csv', index=False)"
   ]
  }
 ],
 "metadata": {
  "kaggle": {
   "accelerator": "none",
   "dataSources": [
    {
     "databundleVersionId": 9630059,
     "sourceId": 85340,
     "sourceType": "competition"
    }
   ],
   "isGpuEnabled": false,
   "isInternetEnabled": true,
   "language": "python",
   "sourceType": "notebook"
  },
  "kernelspec": {
   "display_name": "Python 3",
   "language": "python",
   "name": "python3"
  },
  "language_info": {
   "codemirror_mode": {
    "name": "ipython",
    "version": 3
   },
   "file_extension": ".py",
   "mimetype": "text/x-python",
   "name": "python",
   "nbconvert_exporter": "python",
   "pygments_lexer": "ipython3",
   "version": "3.10.14"
  },
  "papermill": {
   "default_parameters": {},
   "duration": 807.11308,
   "end_time": "2024-10-31T20:45:15.506152",
   "environment_variables": {},
   "exception": null,
   "input_path": "__notebook__.ipynb",
   "output_path": "__notebook__.ipynb",
   "parameters": {},
   "start_time": "2024-10-31T20:31:48.393072",
   "version": "2.6.0"
  }
 },
 "nbformat": 4,
 "nbformat_minor": 5
}
