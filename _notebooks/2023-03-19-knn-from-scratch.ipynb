{
 "cells": [
  {
   "attachments": {},
   "cell_type": "markdown",
   "metadata": {},
   "source": [
    "# Implementing KNN from Scratch\n",
    "> K Nearest Neighbors in Python and NumPy\n",
    "\n",
    "- toc: true \n",
    "- badges: true\n",
    "- comments: true\n",
    "- author: Nikita Kozodoi\n",
    "- categories: [python, ML from scratch, tutorial]\n",
    "- image: images/posts/knn_scratch.png\n",
    "- cover: images/covers/knn_scratch.png\n",
    "- permalink: /blog/:year:month:day/knn-from-scratch"
   ]
  },
  {
   "attachments": {},
   "cell_type": "markdown",
   "metadata": {},
   "source": [
    "*Last update: 26.03.2023. All opinions are my own.*"
   ]
  },
  {
   "attachments": {},
   "cell_type": "markdown",
   "metadata": {
    "papermill": {
     "duration": 0.017101,
     "end_time": "2020-09-28T10:41:26.670058",
     "exception": false,
     "start_time": "2020-09-28T10:41:26.652957",
     "status": "completed"
    },
    "tags": []
   },
   "source": [
    "# 1. Overview\n",
    "\n",
    "This blog post provides a tutorial on implementing the K Nearest Neighbors algorithm using Python and NumPy. We will set up a simple class object, implement relevant methods to perform the prediction, and illustrate how it works on a toy dataset.\n",
    "\n",
    "Why are we implementing KNN from scratch if the algorithm is already available in `scikit-learn`? First, coding something from scratch is the best way to understand it. You may know many ML algorithms, but being able to write it down indicates that you have really mastered it. Second, implementing algorithms from scratch is a common task in ML interviews in tech companies, which makes it a useful skill that a job candidate should practice. Last but not least, it's a fun exercise, right? :)\n",
    "\n",
    "This post is part of [\"ML from Scratch\"](https://kozodoi.me/search/#ML%20from%20scratch) series, where we implement established ML algorithms in Python. Check out other posts to see further implementations."
   ]
  },
  {
   "attachments": {},
   "cell_type": "markdown",
   "metadata": {
    "papermill": {
     "duration": 0.016886,
     "end_time": "2020-09-28T10:41:26.750200",
     "exception": false,
     "start_time": "2020-09-28T10:41:26.733314",
     "status": "completed"
    },
    "tags": []
   },
   "source": [
    "# 2. How KNN works\n",
    "\n",
    "Before we jump to the implementation, let's quickly refresh our minds. How does KNN work? \n",
    "\n",
    "KNN is one of the so-called lazy algorithms, which means that there is no actual training step. Instead, KNN memorizes the training data by storing the feature values of training examples. Given a new example to be predicted, KNN calculates distances between the new example and each of the examples in the training set. The prediction returned by the KNN algorithm is simply the average value of the target variable across the K nearest neighbors of the new example.\n",
    "\n",
    "P.S. If you need a more detailed summary of how KNN works, check out [this Wiki page](https://en.wikipedia.org/wiki/K-nearest_neighbors_algorithm). "
   ]
  },
  {
   "attachments": {},
   "cell_type": "markdown",
   "metadata": {},
   "source": [
    "# 3. Implementing KNN\n",
    "\n",
    "Let's start the implementation! The only library we need to import is `numpy`:"
   ]
  },
  {
   "cell_type": "code",
   "execution_count": null,
   "metadata": {},
   "outputs": [],
   "source": [
    "for size in layer_sizes:\n",
    "    x = tf.keras.layers.Dense(\n",
    "        size,\n",
    "        kernel_initializer=\"he_uniform\",\n",
    "        activation=activation_fn,\n",
    "    )(x)\n",
    "    if size < layer_sizes - 1:\n",
    "        x = tf.keras.layers.BatchNormalization()(x)\n",
    "    x = tf.keras.layers.Dropout(dropout_rate)(x)\n",
    "\n",
    "x = tf.keras.layers.Dense(\n",
    "    n_outputs, kernel_initializer=\"he_uniform\", activation=\"sigmoid\", name=\"events_predictions\"\n",
    ")(x)"
   ]
  },
  {
   "cell_type": "code",
   "execution_count": 1,
   "metadata": {},
   "outputs": [],
   "source": [
    "import numpy as np"
   ]
  },
  {
   "attachments": {},
   "cell_type": "markdown",
   "metadata": {},
   "source": [
    "In line with object-oriented programming practices, we will implement KNN as a class with a set of methods. We will need the following five:\n",
    "\n",
    "1. `__init__()`: initialize the class object.\n",
    "2. `fit()`: memorize the training data and store it as a class variable.\n",
    "3. `predict()`: predict label for a new example.\n",
    "4. `get_distance()`: helper function to calculate distance between two examples.\n",
    "5. `get_neighbors()`: helper function to find and rank neighbors by distance.\n",
    "\n",
    "The last two functions are optional: we can implement the logic inside the `predict()` method, but it will be easier to split the steps.\n",
    "\n",
    "Let's sketch a class object template. Since we implement functions as class methods, we include `self` argument for each method:"
   ]
  },
  {
   "cell_type": "code",
   "execution_count": 70,
   "metadata": {},
   "outputs": [],
   "source": [
    "class KNN:\n",
    "    \n",
    "    def __init__(self):\n",
    "        pass\n",
    "    \n",
    "    def fit(self):\n",
    "        \"\"\"\n",
    "        Memorize training data\n",
    "        \"\"\"\n",
    "        pass\n",
    "    \n",
    "    def predict(self):\n",
    "        \"\"\"\n",
    "        Predict labels\n",
    "        \"\"\"\n",
    "        pass\n",
    "\n",
    "    def get_distance(self):\n",
    "        \"\"\"\n",
    "        Calculate distance between two examples\n",
    "        \"\"\"\n",
    "        pass    \n",
    "    \n",
    "    def get_neighbors(self):\n",
    "        \"\"\"\n",
    "        Find nearest neighbors\n",
    "        \"\"\"\n",
    "        pass"
   ]
  },
  {
   "attachments": {},
   "cell_type": "markdown",
   "metadata": {},
   "source": [
    "Now let's go through each method one by one. \n",
    "\n",
    "The `__init__()` method is run once when the initialize the KNN class object. The only thing we need to do on the initialization step is to store meta-parameters of our algorithm. For KNN, there is only one key meta-parameter we specify: the number of neighbors. We will save it as `self.num_neighbors`:"
   ]
  },
  {
   "cell_type": "code",
   "execution_count": null,
   "metadata": {},
   "outputs": [],
   "source": [
    "def __init__(self, num_neighbors: int = 5):\n",
    "    self.num_neighbors = num_neighbors"
   ]
  },
  {
   "attachments": {},
   "cell_type": "markdown",
   "metadata": {},
   "source": [
    "Next, let's implement the `fit()` method. As we mentioned above, on the training stage, KNN needs to memorize the training data. To simplify further calculations, we will provide the input data as two `numpy` arrays: features saved as `self.X` and labels saved as `self.y`: "
   ]
  },
  {
   "cell_type": "code",
   "execution_count": null,
   "metadata": {},
   "outputs": [],
   "source": [
    "def fit(self, X: np.array, y: np.array):\n",
    "    \"\"\"\n",
    "    Memorize training data\n",
    "    \"\"\"\n",
    "    self.X = X\n",
    "    self.y = y"
   ]
  },
  {
   "attachments": {},
   "cell_type": "markdown",
   "metadata": {},
   "source": [
    "Now, let's write down a helper function to calculate distance between two examples, which are two `numpy` arrays with feature values. For simplicity, we will assume that all features are numeric. One of the most commonly used distance metrics is the Euclidean distance, which is calculated as a root of the sum of the squared differences between feature values. If the last sentence sounds complicated, here is how simple it looks in Python:"
   ]
  },
  {
   "cell_type": "code",
   "execution_count": null,
   "metadata": {},
   "outputs": [],
   "source": [
    "def get_distance(self, a: np.array,  b: np.array):\n",
    "    \"\"\"\n",
    "    Calculate Euclidean distance between two examples\n",
    "    \"\"\"\n",
    "    return np.sum((a - b) ** 2) ** 0.5"
   ]
  },
  {
   "attachments": {},
   "cell_type": "markdown",
   "metadata": {},
   "source": [
    "Now we are getting to the most difficult part of the KNN implementation! Below, we will write a helper function that finds nearest neighbors for a given example. For that, we will do several steps:\n",
    "1. Calculate distance between the provided example and each example in the memorized dataset `self.X`. \n",
    "2. Sort examples in `self.X` by their distances to the provided example.\n",
    "3. Return indices of the  nearest neighbors based on the `self.num_neighbors` meta-parameter.\n",
    "\n",
    "For step 1, we will leverage the `get_distance()` function defined above. The trick to implement step 2 is two save a tuple (example ID, distance) when going through the training data. This will allow to sort the examples by distance and return the relevant IDs at the same time:"
   ]
  },
  {
   "cell_type": "code",
   "execution_count": null,
   "metadata": {},
   "outputs": [],
   "source": [
    "def get_neighbors(self, example: np.array):\n",
    "    \"\"\"\n",
    "    Find and rank nearest neighbors of example\n",
    "    \"\"\"\n",
    "    \n",
    "    # placeholder\n",
    "    distances = []\n",
    "\n",
    "    # calculate distances as tuples (id, distance)\n",
    "    for i in range(len(self.X)):\n",
    "        distances.append((i, self.get_distance(self.X[i], example)))\n",
    "\n",
    "    # sort by distance\n",
    "    distances.sort(key = lambda x: x[1])\n",
    "    \n",
    "    # return IDs and distances top neighbors\n",
    "    return distances[:self.num_neighbors]"
   ]
  },
  {
   "attachments": {},
   "cell_type": "markdown",
   "metadata": {},
   "source": [
    "The final step is to do the prediction! For this purpose, we implement the `predict()` method that expects a new dataset as a `numpy` array and provides an array with predictions. For each example in the new dataset, the method will go through its nearest neighbors identified using the `get_neighbors()` helper, and average labels across the neighbors. That's it! "
   ]
  },
  {
   "cell_type": "code",
   "execution_count": null,
   "metadata": {},
   "outputs": [],
   "source": [
    "def predict(self, X: np.array):\n",
    "    \"\"\"\n",
    "    Predict labels\n",
    "    \"\"\"\n",
    "    \n",
    "    # placeholder\n",
    "    predictions = []\n",
    "    \n",
    "    # go through examples\n",
    "    for idx in range(len(X)):\n",
    "        example     = X[idx]\n",
    "        k_neighbors = self.get_neighbors(example)\n",
    "        k_y_values  = [self.y[item[0]] for item in k_neighbors]\n",
    "        prediction  = sum(k_y_values) / self.num_neighbors\n",
    "        predictions.append(prediction)\n",
    "\n",
    "    # return predictions\n",
    "    return np.array(predictions)"
   ]
  },
  {
   "attachments": {},
   "cell_type": "markdown",
   "metadata": {},
   "source": [
    "Putting everything together, this is how our implementation looks like:"
   ]
  },
  {
   "cell_type": "code",
   "execution_count": 2,
   "metadata": {},
   "outputs": [],
   "source": [
    "### END-TO-END KNN CLASS\n",
    "\n",
    "class KNN:\n",
    "    \n",
    "    def __init__(self, num_neighbors: int = 5):\n",
    "        self.num_neighbors = num_neighbors\n",
    "        \n",
    "        \n",
    "    def fit(self, X: np.array, y: np.array):\n",
    "        \"\"\"\n",
    "        Memorize training data\n",
    "        \"\"\"\n",
    "        self.X = X\n",
    "        self.y = y\n",
    "        \n",
    "        \n",
    "    def get_distance(self, a: np.array,  b: np.array):\n",
    "        \"\"\"\n",
    "        Calculate Euclidean distance between two examples\n",
    "        \"\"\"\n",
    "        return np.sum((a - b) ** 2) ** 0.5\n",
    "\n",
    "\n",
    "    def get_neighbors(self, example: np.array):\n",
    "        \"\"\"\n",
    "        Find and rank nearest neighbors of example\n",
    "        \"\"\"\n",
    "        \n",
    "        # placeholder\n",
    "        distances = []\n",
    "\n",
    "        # calculate distances as tuples (id, distance)\n",
    "        for i in range(len(self.X)):\n",
    "            distances.append((i, self.get_distance(self.X[i], example)))\n",
    "\n",
    "        # sort by distance\n",
    "        distances.sort(key = lambda x: x[1])\n",
    "        \n",
    "        # return IDs and distances top neighbors\n",
    "        return distances[:self.num_neighbors]\n",
    "\n",
    "\n",
    "    def predict(self, X: np.array):\n",
    "        \"\"\"\n",
    "        Predict labels\n",
    "        \"\"\"\n",
    "        \n",
    "        # placeholder\n",
    "        predictions = []\n",
    "        \n",
    "        # go through examples\n",
    "        for idx in range(len(X)):\n",
    "            example     = X[idx]\n",
    "            k_neighbors = self.get_neighbors(example)\n",
    "            k_y_values  = [self.y[item[0]] for item in k_neighbors]\n",
    "            prediction  = sum(k_y_values) / self.num_neighbors\n",
    "            predictions.append(prediction)\n",
    "\n",
    "        # return predictions\n",
    "        return np.array(predictions)"
   ]
  },
  {
   "attachments": {},
   "cell_type": "markdown",
   "metadata": {},
   "source": [
    "# 4. Testing the implementation\n",
    "\n",
    "Now that we have our implementation, let's check whether it actually works. We will generate toy data using `numpy`. The `gen_data()` function below uses the `np.random` module to draw feature values from a random Normal distribution and assign a 0/1 label."
   ]
  },
  {
   "cell_type": "code",
   "execution_count": 3,
   "metadata": {},
   "outputs": [],
   "source": [
    "### HELPER FUNCTION\n",
    "\n",
    "def gen_data(\n",
    "    mu: float = 0, \n",
    "    sigma: float = 1, \n",
    "    y: int = 0,\n",
    "    size: tuple = (1000, 10),\n",
    "):\n",
    "    \"\"\"\n",
    "    Generate random data\n",
    "    \"\"\"\n",
    "    X = np.random.normal(loc = mu, scale = sigma, size = size)\n",
    "    y = np.repeat(y, repeats = size[0])\n",
    "    \n",
    "    return X, y"
   ]
  },
  {
   "attachments": {},
   "cell_type": "markdown",
   "metadata": {},
   "source": [
    "To simulate a simple ML problem, we will generate a dataset consisting of two samples: \n",
    "1. 30 examples with mean features value of 1 and a label of 0.\n",
    "2. 20 examples with mean features value of 5 and a label of 1."
   ]
  },
  {
   "cell_type": "code",
   "execution_count": 71,
   "metadata": {},
   "outputs": [],
   "source": [
    "### TOY DATA GENERATION\n",
    "\n",
    "X0, y0 = gen_data(mu = 1, sigma = 3, y = 0, size = (30, 10))\n",
    "X1, y1 = gen_data(mu = 5, sigma = 3, y = 1, size = (20, 10))\n",
    "X = np.concatenate((X0, X1), axis = 0)\n",
    "y = np.concatenate((y0, y1), axis = 0)"
   ]
  },
  {
   "attachments": {},
   "cell_type": "markdown",
   "metadata": {},
   "source": [
    "Now, let's instantiate our KNN class, fit it on the training data and provide predictions for some new examples! \n",
    "\n",
    "To see if the algorithm works properly, we will generate four new examples as `X_new`, gradually increasing the feature values from 1 to 5. We expect the label predicted by KNN to increase from 0 to 1, since we are getting closer to examples in `X1`. Let's check!"
   ]
  },
  {
   "cell_type": "code",
   "execution_count": 69,
   "metadata": {},
   "outputs": [
    {
     "data": {
      "text/plain": [
       "array([0. , 0.2, 0.8, 1. ])"
      ]
     },
     "execution_count": 69,
     "metadata": {},
     "output_type": "execute_result"
    }
   ],
   "source": [
    "### PREDICTION\n",
    "\n",
    "# fit KNN\n",
    "clf = KNN(num_neighbors = 5)\n",
    "clf.fit(X, y)\n",
    "\n",
    "# generate new examples\n",
    "X_new = np.stack((\n",
    "    np.repeat(1, 10),\n",
    "    np.repeat(2, 10),\n",
    "    np.repeat(4, 10),\n",
    "    np.repeat(5, 10),\n",
    "))\n",
    "\n",
    "# predict new examples\n",
    "clf.predict(X_new)"
   ]
  },
  {
   "attachments": {},
   "cell_type": "markdown",
   "metadata": {},
   "source": [
    "Yay! Everything works as expected. Our KNN algorithm provides four predictions for the new examples, and the prediction goes up with the increase in feature values. Our job is done!"
   ]
  },
  {
   "attachments": {},
   "cell_type": "markdown",
   "metadata": {
    "papermill": {
     "duration": 0.08316,
     "end_time": "2020-09-28T13:15:57.370796",
     "exception": false,
     "start_time": "2020-09-28T13:15:57.287636",
     "status": "completed"
    },
    "tags": []
   },
   "source": [
    "# 5. Closing words\n",
    "\n",
    "This is it! I hope this tutorial helps you to refresh your memory on how KNN works and gives you a good idea on how to implement it yourself. You are now well-equipped to do this exercise on your own!\n",
    "\n",
    "If you liked this tutorial, feel free to share it on social media and buy me a coffee :) Don't forget to check out other posts in the [\"ML from Scratch\"](https://kozodoi.me/search/#ML%20from%20scratch) series. Happy learning!"
   ]
  }
 ],
 "metadata": {
  "kernelspec": {
   "display_name": "py3",
   "language": "python",
   "name": "python3"
  },
  "language_info": {
   "codemirror_mode": {
    "name": "ipython",
    "version": 3
   },
   "file_extension": ".py",
   "mimetype": "text/x-python",
   "name": "python",
   "nbconvert_exporter": "python",
   "pygments_lexer": "ipython3",
   "version": "3.8.8"
  },
  "papermill": {
   "duration": 9276.743122,
   "end_time": "2020-09-28T13:15:58.077845",
   "environment_variables": {},
   "exception": null,
   "input_path": "__notebook__.ipynb",
   "output_path": "__notebook__.ipynb",
   "parameters": {},
   "start_time": "2020-09-28T10:41:21.334723",
   "version": "2.1.0"
  },
  "vscode": {
   "interpreter": {
    "hash": "5df68ee951abd9e0af39173387ecc93a151d87015b8ef6c5cd08ce73654c6d54"
   }
  },
  "widgets": {
   "application/vnd.jupyter.widget-state+json": {
    "state": {
     "13c1b0b60dc243baa0859d1c6bd17129": {
      "model_module": "@jupyter-widgets/controls",
      "model_module_version": "1.5.0",
      "model_name": "FloatProgressModel",
      "state": {
       "_dom_classes": [],
       "_model_module": "@jupyter-widgets/controls",
       "_model_module_version": "1.5.0",
       "_model_name": "FloatProgressModel",
       "_view_count": null,
       "_view_module": "@jupyter-widgets/controls",
       "_view_module_version": "1.5.0",
       "_view_name": "ProgressView",
       "bar_style": "success",
       "description": "100%",
       "description_tooltip": null,
       "layout": "IPY_MODEL_6ec176035b11447582886c6d337eeff6",
       "max": 87306240,
       "min": 0,
       "orientation": "horizontal",
       "style": "IPY_MODEL_b89c0127f3a94527b58b7d710c43e951",
       "value": 87306240
      }
     },
     "149e60260f0b49268d9e6ce0c8461dce": {
      "model_module": "@jupyter-widgets/base",
      "model_module_version": "1.2.0",
      "model_name": "LayoutModel",
      "state": {
       "_model_module": "@jupyter-widgets/base",
       "_model_module_version": "1.2.0",
       "_model_name": "LayoutModel",
       "_view_count": null,
       "_view_module": "@jupyter-widgets/base",
       "_view_module_version": "1.2.0",
       "_view_name": "LayoutView",
       "align_content": null,
       "align_items": null,
       "align_self": null,
       "border": null,
       "bottom": null,
       "display": null,
       "flex": null,
       "flex_flow": null,
       "grid_area": null,
       "grid_auto_columns": null,
       "grid_auto_flow": null,
       "grid_auto_rows": null,
       "grid_column": null,
       "grid_gap": null,
       "grid_row": null,
       "grid_template_areas": null,
       "grid_template_columns": null,
       "grid_template_rows": null,
       "height": null,
       "justify_content": null,
       "justify_items": null,
       "left": null,
       "margin": null,
       "max_height": null,
       "max_width": null,
       "min_height": null,
       "min_width": null,
       "object_fit": null,
       "object_position": null,
       "order": null,
       "overflow": null,
       "overflow_x": null,
       "overflow_y": null,
       "padding": null,
       "right": null,
       "top": null,
       "visibility": null,
       "width": null
      }
     },
     "19703cdff07249fab2d78d23d35192f3": {
      "model_module": "@jupyter-widgets/controls",
      "model_module_version": "1.5.0",
      "model_name": "HTMLModel",
      "state": {
       "_dom_classes": [],
       "_model_module": "@jupyter-widgets/controls",
       "_model_module_version": "1.5.0",
       "_model_name": "HTMLModel",
       "_view_count": null,
       "_view_module": "@jupyter-widgets/controls",
       "_view_module_version": "1.5.0",
       "_view_name": "HTMLView",
       "description": "",
       "description_tooltip": null,
       "layout": "IPY_MODEL_149e60260f0b49268d9e6ce0c8461dce",
       "placeholder": "​",
       "style": "IPY_MODEL_68071ef4d8ad4ce782ddc9b045860848",
       "value": " 83.3M/83.3M [00:00&lt;00:00, 116MB/s]"
      }
     },
     "44310773133f44999edfef5f5ff34fbb": {
      "model_module": "@jupyter-widgets/controls",
      "model_module_version": "1.5.0",
      "model_name": "HBoxModel",
      "state": {
       "_dom_classes": [],
       "_model_module": "@jupyter-widgets/controls",
       "_model_module_version": "1.5.0",
       "_model_name": "HBoxModel",
       "_view_count": null,
       "_view_module": "@jupyter-widgets/controls",
       "_view_module_version": "1.5.0",
       "_view_name": "HBoxView",
       "box_style": "",
       "children": [
        "IPY_MODEL_13c1b0b60dc243baa0859d1c6bd17129",
        "IPY_MODEL_19703cdff07249fab2d78d23d35192f3"
       ],
       "layout": "IPY_MODEL_ef696dddbf0e4bdf851a3c08acd0a3c9"
      }
     },
     "68071ef4d8ad4ce782ddc9b045860848": {
      "model_module": "@jupyter-widgets/controls",
      "model_module_version": "1.5.0",
      "model_name": "DescriptionStyleModel",
      "state": {
       "_model_module": "@jupyter-widgets/controls",
       "_model_module_version": "1.5.0",
       "_model_name": "DescriptionStyleModel",
       "_view_count": null,
       "_view_module": "@jupyter-widgets/base",
       "_view_module_version": "1.2.0",
       "_view_name": "StyleView",
       "description_width": ""
      }
     },
     "6ec176035b11447582886c6d337eeff6": {
      "model_module": "@jupyter-widgets/base",
      "model_module_version": "1.2.0",
      "model_name": "LayoutModel",
      "state": {
       "_model_module": "@jupyter-widgets/base",
       "_model_module_version": "1.2.0",
       "_model_name": "LayoutModel",
       "_view_count": null,
       "_view_module": "@jupyter-widgets/base",
       "_view_module_version": "1.2.0",
       "_view_name": "LayoutView",
       "align_content": null,
       "align_items": null,
       "align_self": null,
       "border": null,
       "bottom": null,
       "display": null,
       "flex": null,
       "flex_flow": null,
       "grid_area": null,
       "grid_auto_columns": null,
       "grid_auto_flow": null,
       "grid_auto_rows": null,
       "grid_column": null,
       "grid_gap": null,
       "grid_row": null,
       "grid_template_areas": null,
       "grid_template_columns": null,
       "grid_template_rows": null,
       "height": null,
       "justify_content": null,
       "justify_items": null,
       "left": null,
       "margin": null,
       "max_height": null,
       "max_width": null,
       "min_height": null,
       "min_width": null,
       "object_fit": null,
       "object_position": null,
       "order": null,
       "overflow": null,
       "overflow_x": null,
       "overflow_y": null,
       "padding": null,
       "right": null,
       "top": null,
       "visibility": null,
       "width": null
      }
     },
     "b89c0127f3a94527b58b7d710c43e951": {
      "model_module": "@jupyter-widgets/controls",
      "model_module_version": "1.5.0",
      "model_name": "ProgressStyleModel",
      "state": {
       "_model_module": "@jupyter-widgets/controls",
       "_model_module_version": "1.5.0",
       "_model_name": "ProgressStyleModel",
       "_view_count": null,
       "_view_module": "@jupyter-widgets/base",
       "_view_module_version": "1.2.0",
       "_view_name": "StyleView",
       "bar_color": null,
       "description_width": "initial"
      }
     },
     "ef696dddbf0e4bdf851a3c08acd0a3c9": {
      "model_module": "@jupyter-widgets/base",
      "model_module_version": "1.2.0",
      "model_name": "LayoutModel",
      "state": {
       "_model_module": "@jupyter-widgets/base",
       "_model_module_version": "1.2.0",
       "_model_name": "LayoutModel",
       "_view_count": null,
       "_view_module": "@jupyter-widgets/base",
       "_view_module_version": "1.2.0",
       "_view_name": "LayoutView",
       "align_content": null,
       "align_items": null,
       "align_self": null,
       "border": null,
       "bottom": null,
       "display": null,
       "flex": null,
       "flex_flow": null,
       "grid_area": null,
       "grid_auto_columns": null,
       "grid_auto_flow": null,
       "grid_auto_rows": null,
       "grid_column": null,
       "grid_gap": null,
       "grid_row": null,
       "grid_template_areas": null,
       "grid_template_columns": null,
       "grid_template_rows": null,
       "height": null,
       "justify_content": null,
       "justify_items": null,
       "left": null,
       "margin": null,
       "max_height": null,
       "max_width": null,
       "min_height": null,
       "min_width": null,
       "object_fit": null,
       "object_position": null,
       "order": null,
       "overflow": null,
       "overflow_x": null,
       "overflow_y": null,
       "padding": null,
       "right": null,
       "top": null,
       "visibility": null,
       "width": null
      }
     }
    },
    "version_major": 2,
    "version_minor": 0
   }
  }
 },
 "nbformat": 4,
 "nbformat_minor": 4
}
