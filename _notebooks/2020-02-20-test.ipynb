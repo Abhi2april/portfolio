{
 "cells": [
  {
   "cell_type": "markdown",
   "metadata": {},
   "source": [
    "# Detecting Blindness with Deep Learning\n",
    "> Using CNNs to detect diabetic retinopathy in retina photos.\n",
    "\n",
    "- toc: true \n",
    "- badges: true\n",
    "- comments: true\n",
    "- author: Nikita Kozodoi\n",
    "- categories: [jupyter]\n",
    "- image: images/posts/retina.png"
   ]
  },
  {
   "cell_type": "markdown",
   "metadata": {},
   "source": [
    "# 1. Overview"
   ]
  },
  {
   "cell_type": "markdown",
   "metadata": {},
   "source": [
    "Can deep learning help to detect blindenss?\n",
    "\n",
    "Diabetic retinopathy (DR) is one of the leading causes of vision loss. The World Health Organization reports that more than 300 million people worldwide have diabetes (Wong et al 2016). According to a recent study from International Diabetes Federation, the global prevalence of DR among the individuals with diabetes for the period from 2015 to 2019 was at more than 25% (Thomas et al 2019). The disease prevalence has been rising rapidly in developing countries.\n",
    "\n",
    "Early detection and treatment are crucial steps towards preventing DR. The screening procedure requires a trained clinical expert to examine the fundus photographs of the patient's retina. This creates delays in diagnosis and treatment of the disease. This is especially relevant for developing countries, which often lack qualified medical stuff to perform the diagnosis. Automated detection of DR can speed up the efficiency and coverage of the screening programs.\n",
    "\n",
    "This blogpost describes the pipeline of the project that develops a convolutional neural network (CNN) for predicting the severity of DR disease based on the patient's retina photograph. The project was completed within the scope of the Udacity Machine Learning Engineer program and the Kaggle competition hosted by the Asia Pacific Tele-Ophthalmology Society (APTOS). The blogpost covers such steps as:\n",
    "\n",
    "- data exploration and preprocessing to normalize images from different clinics\n",
    "- using transfer learning to pre-train a CNN on a large data set and fine-tune the model on target data\n",
    "- implementing techniques such as learnung rate scheduler, test-time augmentation and others to improve the performance\n",
    "\n",
    "The codes for this project and a PDF report are available on Github. The modeling is done using PyTorch."
   ]
  },
  {
   "cell_type": "markdown",
   "metadata": {},
   "source": [
    "# 2. Data preparation"
   ]
  },
  {
   "cell_type": "markdown",
   "metadata": {},
   "source": [
    "Data exploration and preprocessing is very important step that is frequently underestimated. The quality of the input data directly impact the resulting performance of the machine learning models bult on theat data. Therefore, it is crucial to take some time to look at the data and think about possible issues that should be addressed before moving on to the modeling stage."
   ]
  },
  {
   "cell_type": "markdown",
   "metadata": {},
   "source": [
    "## 2.1. Data exploration"
   ]
  },
  {
   "cell_type": "markdown",
   "metadata": {},
   "source": [
    "The data set is provided by APTOS and is available for the download at the [competition's website](https://www.kaggle.com/c/aptos2019-blindness-detection/data). The data set includes 3,662 labeled retina images of clinical patients and a test set with 1,928 images. \n",
    "\n",
    "The images are taken using a fundus photography technique and labeled by a clinical expert. The integer labels indicate the severity of DR on a scale from 0 to 4, where 0 indicates no disease and 5 is the proliferative stage of DR.\n",
    "\n",
    "First, let us import the data and looak at the class ditribution."
   ]
  }
 ],
 "metadata": {
  "kernelspec": {
   "display_name": "visualization-curriculum-gF8wUgMm",
   "language": "python",
   "name": "visualization-curriculum-gf8wugmm"
  },
  "language_info": {
   "codemirror_mode": {
    "name": "ipython",
    "version": 3
   },
   "file_extension": ".py",
   "mimetype": "text/x-python",
   "name": "python",
   "nbconvert_exporter": "python",
   "pygments_lexer": "ipython3",
   "version": "3.6.7"
  },
  "varInspector": {
   "cols": {
    "lenName": 16,
    "lenType": 16,
    "lenVar": 40
   },
   "kernels_config": {
    "python": {
     "delete_cmd_postfix": "",
     "delete_cmd_prefix": "del ",
     "library": "var_list.py",
     "varRefreshCmd": "print(var_dic_list())"
    },
    "r": {
     "delete_cmd_postfix": ") ",
     "delete_cmd_prefix": "rm(",
     "library": "var_list.r",
     "varRefreshCmd": "cat(var_dic_list()) "
    }
   },
   "types_to_exclude": [
    "module",
    "function",
    "builtin_function_or_method",
    "instance",
    "_Feature"
   ],
   "window_display": false
  }
 },
 "nbformat": 4,
 "nbformat_minor": 4
}
