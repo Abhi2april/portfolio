{
 "cells": [
  {
   "attachments": {},
   "cell_type": "markdown",
   "metadata": {},
   "source": [
    "# Implementing PCA from Scratch\n",
    "> Principal Component Analysis in Python and NumPy\n",
    "\n",
    "- toc: true \n",
    "- badges: true\n",
    "- comments: true\n",
    "- author: Nikita Kozodoi\n",
    "- categories: [python, ML from scratch, tutorial]\n",
    "- image: images/posts/pca_scratch.png\n",
    "- cover: images/covers/pca_scratch.png\n",
    "- permalink: /blog/:year:month:day/pca-from-scratch"
   ]
  },
  {
   "attachments": {},
   "cell_type": "markdown",
   "metadata": {},
   "source": [
    "*Last update: 26.03.2023*"
   ]
  },
  {
   "attachments": {},
   "cell_type": "markdown",
   "metadata": {
    "papermill": {
     "duration": 0.017101,
     "end_time": "2020-09-28T10:41:26.670058",
     "exception": false,
     "start_time": "2020-09-28T10:41:26.652957",
     "status": "completed"
    },
    "tags": []
   },
   "source": [
    "# 1. Overview\n",
    "\n",
    "This blog post provides a tutorial on implementing the Principal Component Analysis algorithm using Python and NumPy. We will set up a simple class object, implement relevant methods to perform the decomposition, and illustrate how it works on a toy dataset.\n",
    "\n",
    "Why are we implementing PCA from scratch if the algorithm is already available in `scikit-learn`? First, coding something from scratch is the best way to understand it. You may know many ML algorithms, but being able to write it down indicates that you have really mastered it. Second, implementing algorithms from scratch is a common task in ML interviews in tech companies, which makes it a useful skill that a job candidate should practice. Last but not least, it's a fun exercise, right? :)\n",
    "\n",
    "This post is part of [\"ML from Scratch\"](https://kozodoi.me/search/#ML%20from%20scratch) series, where we implement established ML algorithms in Python. Check out other posts to see further implementations."
   ]
  },
  {
   "attachments": {},
   "cell_type": "markdown",
   "metadata": {
    "papermill": {
     "duration": 0.016886,
     "end_time": "2020-09-28T10:41:26.750200",
     "exception": false,
     "start_time": "2020-09-28T10:41:26.733314",
     "status": "completed"
    },
    "tags": []
   },
   "source": [
    "# 2. How PCA works\n",
    "\n",
    "Before jumping to implementation, let's quickly refresh our minds. How does PCA work? \n",
    "\n",
    "PCA is a popular unsupervised algorithm used for dimensionality reduction. In a nutshell, PCA helps you to reduce the number of feature in your dataset by combining the features without loosing too much information. More specifically, PCA finds a linear data transformation that projects the data into a new coordinate system with a fewer dimensions. To capture the most variation in the original data, this projection is done by finding the so-called principal components - eigenvectors of the data's covariance matrix - and multiplying the actual data matrix with a subset of the components. This procedure is what we are going to implement.\n",
    "\n",
    "P.S. If you need a more detailed summary of how PCA works, check out [this Wiki page](https://en.wikipedia.org/wiki/Principal_component_analysis). "
   ]
  },
  {
   "attachments": {},
   "cell_type": "markdown",
   "metadata": {},
   "source": [
    "# 3. Implementing PCA\n",
    "\n",
    "Let's start the implementation! The only library we need to import is `numpy`:"
   ]
  },
  {
   "cell_type": "code",
   "execution_count": 3,
   "metadata": {},
   "outputs": [],
   "source": [
    "import numpy as np"
   ]
  },
  {
   "attachments": {},
   "cell_type": "markdown",
   "metadata": {},
   "source": [
    "In line with object-oriented programming practices, we will implement PCA as a class with a set of methods. We will need the following five:\n",
    "\n",
    "1. `__init__()`: initialize the class object.\n",
    "2. `fit()`: center the data and identify principal components.\n",
    "3. `transform()`: transform new data into the identified components.\n",
    "\n",
    "Let's sketch a class object template. Since we implement functions as class methods, we include `self` argument for each method:"
   ]
  },
  {
   "cell_type": "code",
   "execution_count": null,
   "metadata": {},
   "outputs": [],
   "source": [
    "class PCA:\n",
    "    \n",
    "    def __init__(self):\n",
    "        pass\n",
    "    \n",
    "    def fit(self):\n",
    "        \"\"\"\n",
    "        Find principal components\n",
    "        \"\"\"\n",
    "        pass\n",
    "    \n",
    "    def transform(self):\n",
    "        \"\"\"\n",
    "        Transform new data\n",
    "        \"\"\"\n",
    "        pass"
   ]
  },
  {
   "attachments": {},
   "cell_type": "markdown",
   "metadata": {},
   "source": [
    "Now let's go through each method one by one. \n",
    "\n",
    "The `__init__()` method is run once when the initialize the PCA class object. \n",
    "\n",
    "One thing need to do on the initialization step is to store meta-parameters of our algorithm. For PCA, there is only one meta-parameter we will specify: the number of components. We will save it as `self.num_components`.\n",
    "\n",
    "Apart from the meta-parameters, we will create three placeholders that we will use to store important class attributes:\n",
    "- `self.components`: array with the principal component weights\n",
    "- `self.mean`: mean variable values observed in the training data \n",
    "- `self.variance_share`: proportion of variance explained by principal components\n"
   ]
  },
  {
   "cell_type": "code",
   "execution_count": null,
   "metadata": {},
   "outputs": [],
   "source": [
    "def __init__(self, num_components):\n",
    "    self.num_components = num_components\n",
    "    self.components     = None\n",
    "    self.mean           = None\n",
    "    self.variance_share = None"
   ]
  },
  {
   "attachments": {},
   "cell_type": "markdown",
   "metadata": {},
   "source": [
    "Next, let's implement the `fit()` method - the heart of our PCA class. This method will be applied to a provided dataset to identify and memorize principal components. \n",
    "\n",
    "We will do the following steps:\n",
    "1. Center the data by subtracting the mean values for each variable. Normalizing variables is important to make sure that their impact in the data variation is similar and does not depend on the range of that variable. We will also memorize the mean values as `self.mean` as we will need it later for the data transformation.\n",
    "2. Calculate eigenvectors of the covariance matrix. First, we will use `np.cov()` to get the covariance matrix of the data. Next, we will leverage `np.linalg.eig()` to do the eigenvalue decomposition and obtain both eigenvalues and eigenvectors.\n",
    "3. Sort eigenvalues and eigenvectors in the decreasing order. Since we will use a smaller number of components compared to the number of variables in the original data, we would like to focus on components that reflect more data variation. In our case, eigenvectors that correspond to larger eigenvalues capture more variation.\n",
    "4. Store an array with the top `num_components` components as `self.components`.\n",
    "\n",
    "Finally, we will calculate and memorize the data variation explained by the selected components as `self.variance_share`. This can be computed as a cumulative sum of the corresponding eigenvalues divided by the total sum of eigenvalues."
   ]
  },
  {
   "cell_type": "code",
   "execution_count": null,
   "metadata": {},
   "outputs": [],
   "source": [
    "def fit(self, X):\n",
    "    \"\"\"\n",
    "    Find principal components\n",
    "    \"\"\"\n",
    "    \n",
    "    # data centering\n",
    "    self.mean = np.mean(X, axis = 0)\n",
    "    X        -= self.mean\n",
    "    \n",
    "    # calculate eigenvalues & vectors\n",
    "    cov_matrix      = np.cov(X.T)\n",
    "    values, vectors = np.linalg.eig(cov_matrix)\n",
    "    \n",
    "    # sort eigenvalues & vectors \n",
    "    sort_idx = np.argsort(values)[::-1]\n",
    "    values   = values[sort_idx]\n",
    "    vectors  = vectors[:, sort_idx]\n",
    "    \n",
    "    # store principal components & variance\n",
    "    self.components = vectors[:self.num_components]\n",
    "    self.variance_share = np.sum(values[:self.num_components]) / np.sum(values)"
   ]
  },
  {
   "attachments": {},
   "cell_type": "markdown",
   "metadata": {},
   "source": [
    "The most difficult part is over! Last but not least, we will implement a method to perform the data transformation. \n",
    "\n",
    "This will be run after calling the `fit()` method on the training data, so we only need to implement two steps:\n",
    "1. Center the new data using the same mean values that we used on the fitting stage.\n",
    "2. Multiply the data matrix with the matrix of the selected components. Note that we will need to transpose the components matrix to ensure the right dimensionality."
   ]
  },
  {
   "cell_type": "code",
   "execution_count": null,
   "metadata": {},
   "outputs": [],
   "source": [
    "def transform(self, X):\n",
    "    \"\"\"\n",
    "    Transform data\n",
    "    \"\"\"\n",
    "    \n",
    "    # data centering\n",
    "    X -= self.mean\n",
    "    \n",
    "    # decomposition\n",
    "    return np.dot(X, self.components.T)"
   ]
  },
  {
   "attachments": {},
   "cell_type": "markdown",
   "metadata": {},
   "source": [
    "Putting everything together, this is how our implementation looks like:"
   ]
  },
  {
   "cell_type": "code",
   "execution_count": 11,
   "metadata": {},
   "outputs": [],
   "source": [
    "class PCA:\n",
    "    \n",
    "    def __init__(self, num_components):\n",
    "        self.num_components = num_components\n",
    "        self.components     = None\n",
    "        self.mean           = None\n",
    "        self.variance_share = None\n",
    "    \n",
    "    \n",
    "    def fit(self, X):\n",
    "        \"\"\"\n",
    "        Find principal components\n",
    "        \"\"\"\n",
    "        \n",
    "        # data centering\n",
    "        self.mean = np.mean(X, axis = 0)\n",
    "        X        -= self.mean\n",
    "        \n",
    "        # calculate eigenvalues & vectors\n",
    "        cov_matrix      = np.cov(X.T)\n",
    "        values, vectors = np.linalg.eig(cov_matrix)\n",
    "        \n",
    "        # sort eigenvalues & vectors \n",
    "        sort_idx = np.argsort(values)[::-1]\n",
    "        values   = values[sort_idx]\n",
    "        vectors  = vectors[:, sort_idx]\n",
    "        \n",
    "        # store principal components & variance\n",
    "        self.components = vectors[:self.num_components]\n",
    "        self.variance_share = np.sum(values[:self.num_components]) / np.sum(values)\n",
    "    \n",
    "    \n",
    "    def transform(self, X):\n",
    "        \"\"\"\n",
    "        Transform data\n",
    "        \"\"\"\n",
    "        \n",
    "        # data centering\n",
    "        X -= self.mean\n",
    "        \n",
    "        # decomposition\n",
    "        return np.dot(X, self.components.T)"
   ]
  },
  {
   "attachments": {},
   "cell_type": "markdown",
   "metadata": {},
   "source": [
    "# 4. Testing the implementation\n",
    "\n",
    "Now that we have our implementation, let's check whether it actually works. We will generate two toy data samples with 10 features using the `np.random` module to draw feature values from a random Normal distribution:"
   ]
  },
  {
   "cell_type": "code",
   "execution_count": 18,
   "metadata": {},
   "outputs": [
    {
     "name": "stdout",
     "output_type": "stream",
     "text": [
      "(1000, 10) (500, 10)\n"
     ]
    }
   ],
   "source": [
    "X_old = np.random.normal(loc = 0, scale = 1, size = (1000, 10))\n",
    "X_new = np.random.normal(loc = 0, scale = 1, size = (500, 10)) \n",
    "\n",
    "print(X_old.shape, X_new.shape)"
   ]
  },
  {
   "attachments": {},
   "cell_type": "markdown",
   "metadata": {},
   "source": [
    "Now, let's instantiate our PCA class, fit it on the old data and transform both datasets!\n",
    "\n",
    "To see if the algorithm works properly, we will generate four new examples as `X_new`, gradually increasing the feature values from 1 to 5. We expect the label predicted by KNN to increase from 0 to 1, since we are getting closer to examples in `X1`. Let's check!"
   ]
  },
  {
   "cell_type": "code",
   "execution_count": 19,
   "metadata": {},
   "outputs": [
    {
     "name": "stdout",
     "output_type": "stream",
     "text": [
      "Explained variance: 0.8325\n"
     ]
    }
   ],
   "source": [
    "# initialize PCA object\n",
    "pca = PCA(num_components = 8)\n",
    "\n",
    "# fit PCA on old data\n",
    "pca.fit(X_old)\n",
    "\n",
    "# check explained variance\n",
    "print(f\"Explained variance: {pca.variance_share:.4f}\")"
   ]
  },
  {
   "attachments": {},
   "cell_type": "markdown",
   "metadata": {},
   "source": [
    "Eight components explain more than 83% of the data variation. Not bad! Let's transform the data:"
   ]
  },
  {
   "cell_type": "code",
   "execution_count": 20,
   "metadata": {},
   "outputs": [
    {
     "name": "stdout",
     "output_type": "stream",
     "text": [
      "(1000, 8) (500, 8)\n"
     ]
    }
   ],
   "source": [
    "# transform datasets\n",
    "X_old = pca.transform(X_old)\n",
    "X_new = pca.transform(X_new)\n",
    "\n",
    "print(X_old.shape, X_new.shape)"
   ]
  },
  {
   "attachments": {},
   "cell_type": "markdown",
   "metadata": {},
   "source": [
    "Yay! Everything works as expected. The new datasets have eight features instead of the original ten features. "
   ]
  },
  {
   "attachments": {},
   "cell_type": "markdown",
   "metadata": {
    "papermill": {
     "duration": 0.08316,
     "end_time": "2020-09-28T13:15:57.370796",
     "exception": false,
     "start_time": "2020-09-28T13:15:57.287636",
     "status": "completed"
    },
    "tags": []
   },
   "source": [
    "# 5. Closing words\n",
    "\n",
    "This is it! I hope this tutorial helps you to refresh your memory on how PCA works and gives you a good idea on how to implement it yourself. You are now well-equipped to do this exercise on your own!\n",
    "\n",
    "If you liked this tutorial, feel free to share it on social media and buy me a coffee :) Don't forget to check out other posts in the [\"ML from Scratch\"](https://kozodoi.me/search/#ML%20from%20scratch) series. Happy learning!"
   ]
  }
 ],
 "metadata": {
  "kernelspec": {
   "display_name": "Python 3",
   "language": "python",
   "name": "python3"
  },
  "language_info": {
   "codemirror_mode": {
    "name": "ipython",
    "version": 3
   },
   "file_extension": ".py",
   "mimetype": "text/x-python",
   "name": "python",
   "nbconvert_exporter": "python",
   "pygments_lexer": "ipython3",
   "version": "3.8.8"
  },
  "papermill": {
   "duration": 9276.743122,
   "end_time": "2020-09-28T13:15:58.077845",
   "environment_variables": {},
   "exception": null,
   "input_path": "__notebook__.ipynb",
   "output_path": "__notebook__.ipynb",
   "parameters": {},
   "start_time": "2020-09-28T10:41:21.334723",
   "version": "2.1.0"
  },
  "widgets": {
   "application/vnd.jupyter.widget-state+json": {
    "state": {
     "13c1b0b60dc243baa0859d1c6bd17129": {
      "model_module": "@jupyter-widgets/controls",
      "model_module_version": "1.5.0",
      "model_name": "FloatProgressModel",
      "state": {
       "_dom_classes": [],
       "_model_module": "@jupyter-widgets/controls",
       "_model_module_version": "1.5.0",
       "_model_name": "FloatProgressModel",
       "_view_count": null,
       "_view_module": "@jupyter-widgets/controls",
       "_view_module_version": "1.5.0",
       "_view_name": "ProgressView",
       "bar_style": "success",
       "description": "100%",
       "description_tooltip": null,
       "layout": "IPY_MODEL_6ec176035b11447582886c6d337eeff6",
       "max": 87306240,
       "min": 0,
       "orientation": "horizontal",
       "style": "IPY_MODEL_b89c0127f3a94527b58b7d710c43e951",
       "value": 87306240
      }
     },
     "149e60260f0b49268d9e6ce0c8461dce": {
      "model_module": "@jupyter-widgets/base",
      "model_module_version": "1.2.0",
      "model_name": "LayoutModel",
      "state": {
       "_model_module": "@jupyter-widgets/base",
       "_model_module_version": "1.2.0",
       "_model_name": "LayoutModel",
       "_view_count": null,
       "_view_module": "@jupyter-widgets/base",
       "_view_module_version": "1.2.0",
       "_view_name": "LayoutView",
       "align_content": null,
       "align_items": null,
       "align_self": null,
       "border": null,
       "bottom": null,
       "display": null,
       "flex": null,
       "flex_flow": null,
       "grid_area": null,
       "grid_auto_columns": null,
       "grid_auto_flow": null,
       "grid_auto_rows": null,
       "grid_column": null,
       "grid_gap": null,
       "grid_row": null,
       "grid_template_areas": null,
       "grid_template_columns": null,
       "grid_template_rows": null,
       "height": null,
       "justify_content": null,
       "justify_items": null,
       "left": null,
       "margin": null,
       "max_height": null,
       "max_width": null,
       "min_height": null,
       "min_width": null,
       "object_fit": null,
       "object_position": null,
       "order": null,
       "overflow": null,
       "overflow_x": null,
       "overflow_y": null,
       "padding": null,
       "right": null,
       "top": null,
       "visibility": null,
       "width": null
      }
     },
     "19703cdff07249fab2d78d23d35192f3": {
      "model_module": "@jupyter-widgets/controls",
      "model_module_version": "1.5.0",
      "model_name": "HTMLModel",
      "state": {
       "_dom_classes": [],
       "_model_module": "@jupyter-widgets/controls",
       "_model_module_version": "1.5.0",
       "_model_name": "HTMLModel",
       "_view_count": null,
       "_view_module": "@jupyter-widgets/controls",
       "_view_module_version": "1.5.0",
       "_view_name": "HTMLView",
       "description": "",
       "description_tooltip": null,
       "layout": "IPY_MODEL_149e60260f0b49268d9e6ce0c8461dce",
       "placeholder": "​",
       "style": "IPY_MODEL_68071ef4d8ad4ce782ddc9b045860848",
       "value": " 83.3M/83.3M [00:00&lt;00:00, 116MB/s]"
      }
     },
     "44310773133f44999edfef5f5ff34fbb": {
      "model_module": "@jupyter-widgets/controls",
      "model_module_version": "1.5.0",
      "model_name": "HBoxModel",
      "state": {
       "_dom_classes": [],
       "_model_module": "@jupyter-widgets/controls",
       "_model_module_version": "1.5.0",
       "_model_name": "HBoxModel",
       "_view_count": null,
       "_view_module": "@jupyter-widgets/controls",
       "_view_module_version": "1.5.0",
       "_view_name": "HBoxView",
       "box_style": "",
       "children": [
        "IPY_MODEL_13c1b0b60dc243baa0859d1c6bd17129",
        "IPY_MODEL_19703cdff07249fab2d78d23d35192f3"
       ],
       "layout": "IPY_MODEL_ef696dddbf0e4bdf851a3c08acd0a3c9"
      }
     },
     "68071ef4d8ad4ce782ddc9b045860848": {
      "model_module": "@jupyter-widgets/controls",
      "model_module_version": "1.5.0",
      "model_name": "DescriptionStyleModel",
      "state": {
       "_model_module": "@jupyter-widgets/controls",
       "_model_module_version": "1.5.0",
       "_model_name": "DescriptionStyleModel",
       "_view_count": null,
       "_view_module": "@jupyter-widgets/base",
       "_view_module_version": "1.2.0",
       "_view_name": "StyleView",
       "description_width": ""
      }
     },
     "6ec176035b11447582886c6d337eeff6": {
      "model_module": "@jupyter-widgets/base",
      "model_module_version": "1.2.0",
      "model_name": "LayoutModel",
      "state": {
       "_model_module": "@jupyter-widgets/base",
       "_model_module_version": "1.2.0",
       "_model_name": "LayoutModel",
       "_view_count": null,
       "_view_module": "@jupyter-widgets/base",
       "_view_module_version": "1.2.0",
       "_view_name": "LayoutView",
       "align_content": null,
       "align_items": null,
       "align_self": null,
       "border": null,
       "bottom": null,
       "display": null,
       "flex": null,
       "flex_flow": null,
       "grid_area": null,
       "grid_auto_columns": null,
       "grid_auto_flow": null,
       "grid_auto_rows": null,
       "grid_column": null,
       "grid_gap": null,
       "grid_row": null,
       "grid_template_areas": null,
       "grid_template_columns": null,
       "grid_template_rows": null,
       "height": null,
       "justify_content": null,
       "justify_items": null,
       "left": null,
       "margin": null,
       "max_height": null,
       "max_width": null,
       "min_height": null,
       "min_width": null,
       "object_fit": null,
       "object_position": null,
       "order": null,
       "overflow": null,
       "overflow_x": null,
       "overflow_y": null,
       "padding": null,
       "right": null,
       "top": null,
       "visibility": null,
       "width": null
      }
     },
     "b89c0127f3a94527b58b7d710c43e951": {
      "model_module": "@jupyter-widgets/controls",
      "model_module_version": "1.5.0",
      "model_name": "ProgressStyleModel",
      "state": {
       "_model_module": "@jupyter-widgets/controls",
       "_model_module_version": "1.5.0",
       "_model_name": "ProgressStyleModel",
       "_view_count": null,
       "_view_module": "@jupyter-widgets/base",
       "_view_module_version": "1.2.0",
       "_view_name": "StyleView",
       "bar_color": null,
       "description_width": "initial"
      }
     },
     "ef696dddbf0e4bdf851a3c08acd0a3c9": {
      "model_module": "@jupyter-widgets/base",
      "model_module_version": "1.2.0",
      "model_name": "LayoutModel",
      "state": {
       "_model_module": "@jupyter-widgets/base",
       "_model_module_version": "1.2.0",
       "_model_name": "LayoutModel",
       "_view_count": null,
       "_view_module": "@jupyter-widgets/base",
       "_view_module_version": "1.2.0",
       "_view_name": "LayoutView",
       "align_content": null,
       "align_items": null,
       "align_self": null,
       "border": null,
       "bottom": null,
       "display": null,
       "flex": null,
       "flex_flow": null,
       "grid_area": null,
       "grid_auto_columns": null,
       "grid_auto_flow": null,
       "grid_auto_rows": null,
       "grid_column": null,
       "grid_gap": null,
       "grid_row": null,
       "grid_template_areas": null,
       "grid_template_columns": null,
       "grid_template_rows": null,
       "height": null,
       "justify_content": null,
       "justify_items": null,
       "left": null,
       "margin": null,
       "max_height": null,
       "max_width": null,
       "min_height": null,
       "min_width": null,
       "object_fit": null,
       "object_position": null,
       "order": null,
       "overflow": null,
       "overflow_x": null,
       "overflow_y": null,
       "padding": null,
       "right": null,
       "top": null,
       "visibility": null,
       "width": null
      }
     }
    },
    "version_major": 2,
    "version_minor": 0
   }
  }
 },
 "nbformat": 4,
 "nbformat_minor": 4
}
